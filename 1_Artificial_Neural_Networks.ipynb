{
  "nbformat": 4,
  "nbformat_minor": 0,
  "metadata": {
    "colab": {
      "name": "1_Artificial_Neural_Networks.ipynb",
      "provenance": [],
      "collapsed_sections": [],
      "authorship_tag": "ABX9TyPat2oQH8js7oQbywzsXvsO",
      "include_colab_link": true
    },
    "kernelspec": {
      "name": "python3",
      "display_name": "Python 3"
    }
  },
  "cells": [
    {
      "cell_type": "markdown",
      "metadata": {
        "id": "view-in-github",
        "colab_type": "text"
      },
      "source": [
        "<a href=\"https://colab.research.google.com/github/amazingashis/Machine_Learning_Advanced/blob/main/1_Artificial_Neural_Networks.ipynb\" target=\"_parent\"><img src=\"https://colab.research.google.com/assets/colab-badge.svg\" alt=\"Open In Colab\"/></a>"
      ]
    },
    {
      "cell_type": "markdown",
      "metadata": {
        "id": "JZ0RxQhzqs87"
      },
      "source": [
        "**Artificial Neural Networks**"
      ]
    },
    {
      "cell_type": "markdown",
      "metadata": {
        "id": "9dopcAx8pj9F"
      },
      "source": [
        "<img src=\"https://camo.githubusercontent.com/6748b8a5d2c8d6c37060bb1a34ad8c3707bbc37f/68747470733a2f2f63646e2d696d616765732d312e6d656469756d2e636f6d2f70726f78792f312a5247563642623343686d5657734138513651746836512e706e67\"/>\n"
      ]
    },
    {
      "cell_type": "markdown",
      "metadata": {
        "id": "GN6uMD95tppk"
      },
      "source": [
        "**Neural Networks**\n",
        "\n",
        "A neural network is a connected network which takes an input value and computes the desired output\n",
        "\n",
        "**Emergence of Deep Learning**\n",
        "\n",
        "The vasious shortcomings with ML lead to the emergence of deep learning.\n",
        "\n",
        "\n",
        "*   Unable to process high dimensional data\n",
        "*   feature engineering is manual\n",
        "*   Not ideal for image processing\n",
        "*   Not effecient with multiple data points\n",
        "\n",
        "\n",
        "\n",
        "---\n",
        "\n",
        "**Components of a Neural Networks**\n",
        "\n",
        "<img src = \"https://camo.githubusercontent.com/2a5c8c8198f33f6a7ac2c12a0367bcc0af5e3583/68747470733a2f2f7261772e67697468756275736572636f6e74656e742e636f6d2f6d68757a616966616465762f6d6c5f7a65726f5f746f5f6865726f2f6d61737465722f6e6e6e2e706e673f746f6b656e3d414d534753513456434248434b5451524f51484d545153373250523434\"/>\n",
        "\n",
        "\n",
        "\n",
        "\n"
      ]
    },
    {
      "cell_type": "markdown",
      "metadata": {
        "id": "oSmhtPqMvCHd"
      },
      "source": [
        "**Layers**\n",
        "\n",
        "Layers are used to hold the neurons and pass it on the subsequent layers.\n",
        "\n",
        "<img src=\"https://camo.githubusercontent.com/6b9d32d3c828b69505eb1b3defec0dd84ab6f361/68747470733a2f2f6d69726f2e6d656469756d2e636f6d2f6d61782f323633362f312a33664137375f6d4c4e694a5453675a4668596e5530512e706e67\"/>\n"
      ]
    },
    {
      "cell_type": "markdown",
      "metadata": {
        "id": "vUOlYYoCwTV_"
      },
      "source": [
        "**Weights and Bias**\n",
        "\n",
        "Weights are chosen at random in the beginning and optimized during training to reduce the loss\n",
        "\n",
        "<img src = \"https://camo.githubusercontent.com/3e7e94a82b2a03bad56d22b91ace5b19117c9bb4/68747470733a2f2f7261772e67697468756275736572636f6e74656e742e636f6d2f6d68757a616966616465762f6d6c5f7a65726f5f746f5f6865726f2f6d61737465722f626961732e706e673f746f6b656e3d414d53475351353746374d544f494f4e4f48335346475337325053524f\"/>\n"
      ]
    },
    {
      "cell_type": "markdown",
      "metadata": {
        "id": "BrkptCKswfR-"
      },
      "source": [
        "# Activation Functions\n",
        "\n",
        "Activation function computes the output from the weighted sum of the inputs\n",
        "\n",
        "<img src = \"https://camo.githubusercontent.com/c2dd5bb0e91a91e6fec11d5672fefa1c714e71d3/68747470733a2f2f72617362742e6769746875622e696f2f6d6c7874656e642f757365725f67756964652f67656e6572616c5f636f6e63657074732f61637469766174696f6e2d66756e6374696f6e735f66696c65732f61637469766174696f6e2d66756e6374696f6e732e706e67\"/>"
      ]
    },
    {
      "cell_type": "markdown",
      "metadata": {
        "id": "2KxTpotPwpDv"
      },
      "source": [
        "# Feedforward and Backpropagation neural Networks\n",
        "A **feedforward** neural network is an artificial neural network wherein connections between the nodes do not form a cycle. As such, it is different from its descendant: recurrent neural networks. Getting the initial output is the feedforward process in a neural network.\n",
        "\n",
        "A **backpropagation** is an algorithm for supervised learning of artificial neural networks using gradient descent. Given an artificial neural network and an error function, the method calculates the gradient of the error function with respect to the neural network's weights.\n",
        "\n",
        "\n",
        "<img src = \"https://camo.githubusercontent.com/fd864ecddd1dabb91f3abe9261e090827bed9c70/68747470733a2f2f7777772e7265736561726368676174652e6e65742f7075626c69636174696f6e2f3330333734343039302f6669677572652f666967332f41533a33363839353835393632333933363040313436343937373939323135392f46656564666f72776172642d4261636b70726f7061676174696f6e2d4e657572616c2d4e6574776f726b2d6172636869746563747572652e706e67\"/>"
      ]
    },
    {
      "cell_type": "markdown",
      "metadata": {
        "id": "hiTTp9Pgw7cg"
      },
      "source": [
        "Training a Neural Network in Python from Scratch (NumPy used)\n",
        "\n",
        "<img src = \"https://camo.githubusercontent.com/7ef15f7fe234f4267622c76c3f75e80c10053527/68747470733a2f2f7261772e67697468756275736572636f6e74656e742e636f6d2f6d68757a616966616465762f6d6c5f7a65726f5f746f5f6865726f2f6d61737465722f352e706e673f746f6b656e3d414d534753513443454445414150554a35525233325243373250554157\"/>\n"
      ]
    },
    {
      "cell_type": "code",
      "metadata": {
        "id": "shbMIuDHxGk0"
      },
      "source": [
        ""
      ],
      "execution_count": null,
      "outputs": []
    }
  ]
}