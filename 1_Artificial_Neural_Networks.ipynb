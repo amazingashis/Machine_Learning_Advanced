{
  "nbformat": 4,
  "nbformat_minor": 0,
  "metadata": {
    "colab": {
      "name": "1_Artificial_Neural_Networks.ipynb",
      "provenance": [],
      "collapsed_sections": [],
      "authorship_tag": "ABX9TyPuEToF+/vBbsAAqHgYuiu6",
      "include_colab_link": true
    },
    "kernelspec": {
      "name": "python3",
      "display_name": "Python 3"
    }
  },
  "cells": [
    {
      "cell_type": "markdown",
      "metadata": {
        "id": "view-in-github",
        "colab_type": "text"
      },
      "source": [
        "<a href=\"https://colab.research.google.com/github/amazingashis/Machine_Learning_Advanced/blob/main/1_Artificial_Neural_Networks.ipynb\" target=\"_parent\"><img src=\"https://colab.research.google.com/assets/colab-badge.svg\" alt=\"Open In Colab\"/></a>"
      ]
    },
    {
      "cell_type": "markdown",
      "metadata": {
        "id": "JZ0RxQhzqs87"
      },
      "source": [
        "**Artificial Neural Networks**"
      ]
    },
    {
      "cell_type": "markdown",
      "metadata": {
        "id": "9dopcAx8pj9F"
      },
      "source": [
        "<img src=\"https://camo.githubusercontent.com/6748b8a5d2c8d6c37060bb1a34ad8c3707bbc37f/68747470733a2f2f63646e2d696d616765732d312e6d656469756d2e636f6d2f70726f78792f312a5247563642623343686d5657734138513651746836512e706e67\"/>\n"
      ]
    },
    {
      "cell_type": "markdown",
      "metadata": {
        "id": "GN6uMD95tppk"
      },
      "source": [
        "**Neural Networks**\n",
        "\n",
        "A neural network is a connected network which takes an input value and computes the desired output\n",
        "\n",
        "**Emergence of Deep Learning**\n",
        "\n",
        "The vasious shortcomings with ML lead to the emergence of deep learning.\n",
        "\n",
        "\n",
        "*   Unable to process high dimensional data\n",
        "*   feature engineering is manual\n",
        "*   Not ideal for image processing\n",
        "*   Not effecient with multiple data points\n",
        "\n",
        "\n",
        "\n",
        "---\n",
        "\n",
        "**Components of a Neural Networks**\n",
        "\n",
        "<img src = \"https://camo.githubusercontent.com/2a5c8c8198f33f6a7ac2c12a0367bcc0af5e3583/68747470733a2f2f7261772e67697468756275736572636f6e74656e742e636f6d2f6d68757a616966616465762f6d6c5f7a65726f5f746f5f6865726f2f6d61737465722f6e6e6e2e706e673f746f6b656e3d414d534753513456434248434b5451524f51484d545153373250523434\"/>\n",
        "\n",
        "\n",
        "\n",
        "\n"
      ]
    },
    {
      "cell_type": "markdown",
      "metadata": {
        "id": "oSmhtPqMvCHd"
      },
      "source": [
        "**Layers**\n",
        "\n",
        "Layers are used to hold the neurons and pass it on the subsequent layers.\n",
        "\n",
        "<img src=\"https://camo.githubusercontent.com/6b9d32d3c828b69505eb1b3defec0dd84ab6f361/68747470733a2f2f6d69726f2e6d656469756d2e636f6d2f6d61782f323633362f312a33664137375f6d4c4e694a5453675a4668596e5530512e706e67\"/>\n"
      ]
    },
    {
      "cell_type": "markdown",
      "metadata": {
        "id": "vUOlYYoCwTV_"
      },
      "source": [
        "**Weights and Bias**\n",
        "\n",
        "Weights are chosen at random in the beginning and optimized during training to reduce the loss\n",
        "\n",
        "<img src = \"https://camo.githubusercontent.com/3e7e94a82b2a03bad56d22b91ace5b19117c9bb4/68747470733a2f2f7261772e67697468756275736572636f6e74656e742e636f6d2f6d68757a616966616465762f6d6c5f7a65726f5f746f5f6865726f2f6d61737465722f626961732e706e673f746f6b656e3d414d53475351353746374d544f494f4e4f48335346475337325053524f\"/>\n"
      ]
    },
    {
      "cell_type": "markdown",
      "metadata": {
        "id": "BrkptCKswfR-"
      },
      "source": [
        "# Activation Functions\n",
        "\n",
        "Activation function computes the output from the weighted sum of the inputs\n",
        "\n",
        "<img src = \"https://camo.githubusercontent.com/c2dd5bb0e91a91e6fec11d5672fefa1c714e71d3/68747470733a2f2f72617362742e6769746875622e696f2f6d6c7874656e642f757365725f67756964652f67656e6572616c5f636f6e63657074732f61637469766174696f6e2d66756e6374696f6e735f66696c65732f61637469766174696f6e2d66756e6374696f6e732e706e67\"/>"
      ]
    },
    {
      "cell_type": "markdown",
      "metadata": {
        "id": "2KxTpotPwpDv"
      },
      "source": [
        "# Feedforward and Backpropagation neural Networks\n",
        "A **feedforward** neural network is an artificial neural network wherein connections between the nodes do not form a cycle. As such, it is different from its descendant: recurrent neural networks. Getting the initial output is the feedforward process in a neural network.\n",
        "\n",
        "A **backpropagation** is an algorithm for supervised learning of artificial neural networks using gradient descent. Given an artificial neural network and an error function, the method calculates the gradient of the error function with respect to the neural network's weights.\n",
        "\n",
        "\n",
        "<img src = \"https://camo.githubusercontent.com/fd864ecddd1dabb91f3abe9261e090827bed9c70/68747470733a2f2f7777772e7265736561726368676174652e6e65742f7075626c69636174696f6e2f3330333734343039302f6669677572652f666967332f41533a33363839353835393632333933363040313436343937373939323135392f46656564666f72776172642d4261636b70726f7061676174696f6e2d4e657572616c2d4e6574776f726b2d6172636869746563747572652e706e67\"/>"
      ]
    },
    {
      "cell_type": "markdown",
      "metadata": {
        "id": "hiTTp9Pgw7cg"
      },
      "source": [
        "Training a Neural Network in Python from Scratch (NumPy used)\n",
        "\n",
        "<img src = \"https://camo.githubusercontent.com/7ef15f7fe234f4267622c76c3f75e80c10053527/68747470733a2f2f7261772e67697468756275736572636f6e74656e742e636f6d2f6d68757a616966616465762f6d6c5f7a65726f5f746f5f6865726f2f6d61737465722f352e706e673f746f6b656e3d414d534753513443454445414150554a35525233325243373250554157\"/>\n"
      ]
    },
    {
      "cell_type": "code",
      "metadata": {
        "id": "shbMIuDHxGk0"
      },
      "source": [
        "import numpy as np\n"
      ],
      "execution_count": 1,
      "outputs": []
    },
    {
      "cell_type": "code",
      "metadata": {
        "colab": {
          "base_uri": "https://localhost:8080/"
        },
        "id": "CrsDnteS5DF7",
        "outputId": "e02c3436-922e-45c1-f7a9-9b8aa832b451"
      },
      "source": [
        "input_values = np.array([[0,0],[0,1],[1,0],[1,1]])\n",
        "input_values.shape"
      ],
      "execution_count": 4,
      "outputs": [
        {
          "output_type": "execute_result",
          "data": {
            "text/plain": [
              "(4, 2)"
            ]
          },
          "metadata": {
            "tags": []
          },
          "execution_count": 4
        }
      ]
    },
    {
      "cell_type": "code",
      "metadata": {
        "colab": {
          "base_uri": "https://localhost:8080/"
        },
        "id": "5rOuk8po5UDG",
        "outputId": "e7c3b463-a559-4604-959f-df7310dc7a07"
      },
      "source": [
        "output = np.array([0,1,1,0])\n",
        "output = output.reshape(4,1)\n",
        "output.shape"
      ],
      "execution_count": 17,
      "outputs": [
        {
          "output_type": "execute_result",
          "data": {
            "text/plain": [
              "(4, 1)"
            ]
          },
          "metadata": {
            "tags": []
          },
          "execution_count": 17
        }
      ]
    },
    {
      "cell_type": "code",
      "metadata": {
        "colab": {
          "base_uri": "https://localhost:8080/"
        },
        "id": "TWQOB0po5xpe",
        "outputId": "d548f5e0-c8ad-4ab1-8fdf-8dad4a1fc61f"
      },
      "source": [
        "weights = np.array([[0.1],[0.2]])\n",
        "\n",
        "\n",
        "weights"
      ],
      "execution_count": 19,
      "outputs": [
        {
          "output_type": "execute_result",
          "data": {
            "text/plain": [
              "array([[0.1],\n",
              "       [0.2]])"
            ]
          },
          "metadata": {
            "tags": []
          },
          "execution_count": 19
        }
      ]
    },
    {
      "cell_type": "code",
      "metadata": {
        "id": "VaD6lhJv_j-g"
      },
      "source": [
        "bias = 0.3"
      ],
      "execution_count": 25,
      "outputs": []
    },
    {
      "cell_type": "code",
      "metadata": {
        "id": "5YG9LDRa59i6"
      },
      "source": [
        "def sigmoid(g):\n",
        "  return 1/(1+np.exp(-g))"
      ],
      "execution_count": 9,
      "outputs": []
    },
    {
      "cell_type": "code",
      "metadata": {
        "id": "eUMbRVcl6M_r"
      },
      "source": [
        "def der(x):\n",
        "  return sigmoid(x) * (1-sigmoid(x))"
      ],
      "execution_count": 10,
      "outputs": []
    },
    {
      "cell_type": "code",
      "metadata": {
        "colab": {
          "base_uri": "https://localhost:8080/"
        },
        "id": "BUWQ8P8N6Wtm",
        "outputId": "a9c2dca6-d4a6-4a85-810c-1141bb8873df"
      },
      "source": [
        "for epochs in range(10000):\n",
        "  input_arr = input_values\n",
        "  #fordward prop\n",
        "  z = np.dot(input_arr,weights) + bias\n",
        "  A = sigmoid(z)\n",
        "  \n",
        "  error = A - output\n",
        "  total_error = np.square(np.subtract(A,output)).mean()\n",
        "  #back prop\n",
        "  first_der = error\n",
        "  second_der = der(A)\n",
        "  derivative = first_der * second_der\n",
        "\n",
        "  t_input = input_values.T\n",
        "  final_derivative = np.dot(t_input,derivative)\n",
        "\n",
        "  #update weights\n",
        "  weights = weights - 0.05 * final_derivative\n",
        "\n",
        "  #update bias\n",
        "  for i in derivative:\n",
        "    bias = bias - 0.04 * i\n",
        "  \n",
        "print(\"Weights\",weights)\n",
        "print(\"Bias\",bias)\n",
        "\n"
      ],
      "execution_count": 35,
      "outputs": [
        {
          "output_type": "stream",
          "text": [
            "Weights [[-2.49168069e-16]\n",
            " [-2.49417932e-16]]\n",
            "Bias [1.66533454e-16]\n"
          ],
          "name": "stdout"
        }
      ]
    },
    {
      "cell_type": "code",
      "metadata": {
        "colab": {
          "base_uri": "https://localhost:8080/"
        },
        "id": "e4YCB75q9Ke3",
        "outputId": "e0725a6b-2aa0-4a7d-e254-039e8c4f5cf8"
      },
      "source": [
        "pred = np.array([0,1])\n",
        "\n",
        "result = np.dot(pred, weights) + bias\n",
        "\n",
        "res = sigmoid(result)\n",
        "\n",
        "print(res)"
      ],
      "execution_count": 32,
      "outputs": [
        {
          "output_type": "stream",
          "text": [
            "[0.5]\n"
          ],
          "name": "stdout"
        }
      ]
    },
    {
      "cell_type": "code",
      "metadata": {
        "id": "d4Tr-f0jBHva"
      },
      "source": [
        ""
      ],
      "execution_count": null,
      "outputs": []
    }
  ]
}