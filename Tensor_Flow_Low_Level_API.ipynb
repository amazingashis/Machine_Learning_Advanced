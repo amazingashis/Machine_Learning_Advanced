{
  "nbformat": 4,
  "nbformat_minor": 0,
  "metadata": {
    "colab": {
      "name": "Tensor Flow Low Level API.ipynb",
      "provenance": [],
      "collapsed_sections": [],
      "authorship_tag": "ABX9TyMhFky1MY5qhxFXrgVQEEu5",
      "include_colab_link": true
    },
    "kernelspec": {
      "name": "python3",
      "display_name": "Python 3"
    }
  },
  "cells": [
    {
      "cell_type": "markdown",
      "metadata": {
        "id": "view-in-github",
        "colab_type": "text"
      },
      "source": [
        "<a href=\"https://colab.research.google.com/github/amazingashis/Machine_Learning_Advanced/blob/main/Tensor_Flow_Low_Level_API.ipynb\" target=\"_parent\"><img src=\"https://colab.research.google.com/assets/colab-badge.svg\" alt=\"Open In Colab\"/></a>"
      ]
    },
    {
      "cell_type": "markdown",
      "metadata": {
        "id": "ML1b69-M6_RF"
      },
      "source": [
        "\n",
        "# **Introduction to Variables**\n",
        "A TensorFlow variable is the recommended way to represent shared, persistent state your program manipulates. This guide covers how to create, update, and manage instances of tf.Variable in TensorFlow.\n",
        "\n",
        "Variables are created and tracked via the tf.Variable class. A tf.Variable represents a tensor whose value can be changed by running ops on it. Specific ops allow you to read and modify the values of this tensor. Higher level libraries like tf.keras use tf.Variable to store model parameters."
      ]
    },
    {
      "cell_type": "code",
      "metadata": {
        "id": "TjqlBtZV7C82"
      },
      "source": [
        "import tensorflow as tf\n"
      ],
      "execution_count": 1,
      "outputs": []
    },
    {
      "cell_type": "code",
      "metadata": {
        "id": "Dsk-xyZo7GuF"
      },
      "source": [
        "my_tensor = tf.constant(5)\n",
        "my_variable = tf.Variable([[4,6],[5,6]])\n",
        "\n",
        "# Variables can be all kinds of types, just like tensors\n",
        "bool_variable = tf.Variable([False, False, False, True])\n",
        "complex_variable = tf.Variable([5 + 4j, 6 + 1j])"
      ],
      "execution_count": 2,
      "outputs": []
    },
    {
      "cell_type": "markdown",
      "metadata": {
        "id": "3N6VsUaA9Td2"
      },
      "source": [
        "A variable looks and acts like a tensor, and, in fact, is a data structure backed by a tf.Tensor. Like tensors, they have a dtype and a shape, and can be exported to NumPy."
      ]
    },
    {
      "cell_type": "code",
      "metadata": {
        "colab": {
          "base_uri": "https://localhost:8080/"
        },
        "id": "rjh-bAa69IpD",
        "outputId": "4e8ec544-c212-416c-816b-0d8c0f1a758f"
      },
      "source": [
        "print(\"Shape:\",my_variable.shape)\n",
        "print(\"Dtype\",my_variable.dtype)\n",
        "print(\"As Numpy:\",my_variable.numpy)"
      ],
      "execution_count": 6,
      "outputs": [
        {
          "output_type": "stream",
          "text": [
            "Shape: (2, 2)\n",
            "Dtype <dtype: 'int32'>\n",
            "As Numpy: <bound method BaseResourceVariable.numpy of <tf.Variable 'Variable:0' shape=(2, 2) dtype=int32, numpy=\n",
            "array([[4, 6],\n",
            "       [5, 6]], dtype=int32)>>\n"
          ],
          "name": "stdout"
        }
      ]
    },
    {
      "cell_type": "markdown",
      "metadata": {
        "id": "XR-ixGIW-r-y"
      },
      "source": [
        "\n",
        "Most tensor operations work on variables as expected, although variables cannot be reshaped."
      ]
    },
    {
      "cell_type": "code",
      "metadata": {
        "colab": {
          "base_uri": "https://localhost:8080/"
        },
        "id": "5GP3VTzD97hq",
        "outputId": "4861840a-28bc-4e18-80ad-f3993c085bf0"
      },
      "source": [
        "print(\"A variable:\",my_variable)\n",
        "print(\"\\nViewed as a tensor:\", tf.convert_to_tensor(my_variable))\n",
        "print(\"\\nIndex of highest value:\", tf.argmax(my_variable))\n",
        "\n",
        "# This creates a new tensor; it does not reshape the variable.\n",
        "print(\"\\nCopying and reshaping: \", tf.reshape(my_variable, ([1,4])))\n"
      ],
      "execution_count": 7,
      "outputs": [
        {
          "output_type": "stream",
          "text": [
            "A variable: <tf.Variable 'Variable:0' shape=(2, 2) dtype=int32, numpy=\n",
            "array([[4, 6],\n",
            "       [5, 6]], dtype=int32)>\n",
            "\n",
            "Viewed as a tensor: tf.Tensor(\n",
            "[[4 6]\n",
            " [5 6]], shape=(2, 2), dtype=int32)\n",
            "\n",
            "Index of highest value: tf.Tensor([1 0], shape=(2,), dtype=int64)\n",
            "\n",
            "Copying and reshaping:  tf.Tensor([[4 6 5 6]], shape=(1, 4), dtype=int32)\n"
          ],
          "name": "stdout"
        }
      ]
    },
    {
      "cell_type": "markdown",
      "metadata": {
        "id": "1K7IOhEG_7Ic"
      },
      "source": [
        "As noted above, variables are backed by tensors. You can reassign the tensor using tf.Variable.assign. Calling assign does not (usually) allocate a new tensor; instead, the existing tensor's memory is reused."
      ]
    },
    {
      "cell_type": "code",
      "metadata": {
        "colab": {
          "base_uri": "https://localhost:8080/"
        },
        "id": "GvtacTj7-uk1",
        "outputId": "6c87c36d-2504-4401-cdb6-6e66cb5fc871"
      },
      "source": [
        "\n",
        "a = tf.Variable([2.0, 3.0])\n",
        "# This will keep the same dtype, float32\n",
        "a.assign([1, 2]) \n",
        "# Not allowed as it resizes the variable: \n",
        "try:\n",
        "  a.assign([1.0, 2.0, 3.0])\n",
        "except Exception as e: print(e)"
      ],
      "execution_count": 8,
      "outputs": [
        {
          "output_type": "stream",
          "text": [
            "Shapes (2,) and (3,) are incompatible\n"
          ],
          "name": "stdout"
        }
      ]
    },
    {
      "cell_type": "markdown",
      "metadata": {
        "id": "uXUIKCT6A5Hd"
      },
      "source": [
        "\n",
        "If you use a variable like a tensor in operations, you will usually operate on the backing tensor.\n",
        "\n",
        "Creating new variables from existing variables duplicates the backing tensors. Two variables will not share the same memory."
      ]
    },
    {
      "cell_type": "code",
      "metadata": {
        "colab": {
          "base_uri": "https://localhost:8080/"
        },
        "id": "TDPMJMOhARvJ",
        "outputId": "2cefc178-4b49-4bab-ede4-cc58a8bbdd65"
      },
      "source": [
        "a = tf.Variable([2.0, 3.0])\n",
        "# Create b based on the value of a\n",
        "b = tf.Variable(a)\n",
        "a.assign([5, 6])\n",
        "\n",
        "# a and b are different\n",
        "print(a.numpy())\n",
        "print(b.numpy())\n",
        "\n",
        "# There are other versions of assign\n",
        "print(a.assign_add([2,3]).numpy())  # [7. 9.]\n",
        "print(a.assign_sub([7,9]).numpy())  # [0. 0.]"
      ],
      "execution_count": 9,
      "outputs": [
        {
          "output_type": "stream",
          "text": [
            "[5. 6.]\n",
            "[2. 3.]\n",
            "[7. 9.]\n",
            "[0. 0.]\n"
          ],
          "name": "stdout"
        }
      ]
    },
    {
      "cell_type": "markdown",
      "metadata": {
        "id": "RgV_lioqJQ7S"
      },
      "source": [
        "\n",
        "# **Lifecycles, naming, and watching**\n",
        "In Python-based TensorFlow, tf.Variable instance have the same lifecycle as other Python objects. When there are no references to a variable it is automatically deallocated.\n",
        "\n",
        "Variables can also be named which can help you track and debug them. You can give two variables the same name."
      ]
    },
    {
      "cell_type": "code",
      "metadata": {
        "colab": {
          "base_uri": "https://localhost:8080/"
        },
        "id": "PUcXAtuwCAl9",
        "outputId": "1d476f83-f019-4ce1-f54f-a9513bfafb81"
      },
      "source": [
        "# Create a and b; they have the same value but are backed by different tensors.\n",
        "a = tf.Variable(my_tensor, name=\"Mark\")\n",
        "# A new variable with the same name, but different value\n",
        "# Note that the scalar add is broadcast\n",
        "b = tf.Variable(my_tensor + 1, name=\"Mark\")\n",
        "\n",
        "# These are elementwise-unequal, despite having the same name\n",
        "print(a == b)"
      ],
      "execution_count": 10,
      "outputs": [
        {
          "output_type": "stream",
          "text": [
            "tf.Tensor(False, shape=(), dtype=bool)\n"
          ],
          "name": "stdout"
        }
      ]
    },
    {
      "cell_type": "markdown",
      "metadata": {
        "id": "u6xfTqzgJVKI"
      },
      "source": [
        "\n",
        "Variable names are preserved when saving and loading models. By default, variables in models will acquire unique variable names automatically, so you don't need to assign them yourself unless you want to.\n",
        "\n",
        "Although variables are important for differentiation, some variables will not need to be differentiated. You can turn off gradients for a variable by setting trainable to false at creation. An example of a variable that would not need gradients is a training step counter."
      ]
    },
    {
      "cell_type": "code",
      "metadata": {
        "id": "72A-EnJUJTTK"
      },
      "source": [
        "step_counter = tf.Variable(1,trainable=True)"
      ],
      "execution_count": 11,
      "outputs": []
    },
    {
      "cell_type": "markdown",
      "metadata": {
        "id": "Klk0SaNjK3zC"
      },
      "source": [
        "\n",
        "# **Placing variables and tensors**\n",
        "For better performance, TensorFlow will attempt to place tensors and variables on the fastest device compatible with its dtype. This means most variables are placed on a GPU if one is available.\n",
        "\n",
        "However, we can override this. In this snippet, we can place a float tensor and a variable on the CPU, even if a GPU is available. By turning on device placement logging, we can see where the variable is placed.\n",
        "\n",
        "Note: Although manual placement works, using can be a more convenient and scalable way to optimize your computation.\n",
        "\n",
        "If you run this notebook on different backends with and without a GPU you will see different logging. Note that logging device placement must be turned on at the start of the session."
      ]
    },
    {
      "cell_type": "code",
      "metadata": {
        "colab": {
          "base_uri": "https://localhost:8080/"
        },
        "id": "6IKaJE1NK06Z",
        "outputId": "f9b497ec-8091-4324-bfd4-c787adb09f35"
      },
      "source": [
        "with tf.device('CPU:0'):\n",
        "\n",
        "  # Create some tensors\n",
        "  a = tf.Variable([[1.0, 2.0, 3.0], [4.0, 5.0, 6.0]])\n",
        "  b = tf.constant([[1.0, 2.0], [3.0, 4.0], [5.0, 6.0]])\n",
        "  c = tf.matmul(a, b)\n",
        "\n",
        "print(c)"
      ],
      "execution_count": 12,
      "outputs": [
        {
          "output_type": "stream",
          "text": [
            "tf.Tensor(\n",
            "[[22. 28.]\n",
            " [49. 64.]], shape=(2, 2), dtype=float32)\n"
          ],
          "name": "stdout"
        }
      ]
    },
    {
      "cell_type": "markdown",
      "metadata": {
        "id": "-cAML-v6MIHM"
      },
      "source": [
        "It's possible to set the location of a variable or tensor on one device and do the computation on another device. This will introduce delay, as data needs to be copied between the devices.\n",
        "\n",
        "You might do this, however, if you had multiple GPU workers but only want one copy of the variables"
      ]
    },
    {
      "cell_type": "code",
      "metadata": {
        "colab": {
          "base_uri": "https://localhost:8080/"
        },
        "id": "ukUDRDOtMGpf",
        "outputId": "ace39168-cd0f-450c-a9a6-fb0b14eafe23"
      },
      "source": [
        "with tf.device('CPU:0'):\n",
        "  a = tf.Variable([[1.0, 2.0, 3.0], [4.0, 5.0, 6.0]])\n",
        "  b = tf.Variable([[1.0, 2.0, 3.0]])\n",
        "\n",
        "with tf.device('GPU:0'):\n",
        "  # Element-wise multiply\n",
        "  k = a * b\n",
        "\n",
        "print(k)"
      ],
      "execution_count": 13,
      "outputs": [
        {
          "output_type": "stream",
          "text": [
            "tf.Tensor(\n",
            "[[ 1.  4.  9.]\n",
            " [ 4. 10. 18.]], shape=(2, 3), dtype=float32)\n"
          ],
          "name": "stdout"
        }
      ]
    },
    {
      "cell_type": "markdown",
      "metadata": {
        "id": "H2GejaadMOnR"
      },
      "source": [
        "Note: Because tf.config.set_soft_device_placement is turned on by default, even if you run this code on a device without a GPU, it will still run and the multiplication step happen on the CPU.\n",
        "\n",
        "\n",
        "\n",
        "# Writing Low-Level TensorFlow Code\n",
        "**Learning Objectives**\n",
        "\n",
        "* Practice defining and performing basic operations on constant Tensors\n",
        "* Use Tensorflow's automatic differentiation capability\n",
        "* Learn how to train a linear regression from scratch with TensorFLow\n",
        "\n",
        "\n",
        "# Introduction\n",
        "In this notebook, we will start by reviewing the main operations on Tensors in TensorFlow and understand how to manipulate TensorFlow Variables. We explain how these are compa\n",
        "tible with python built-in list and numpy arrays.\n",
        "\n",
        "Then we will jump to the problem of training a linear regression from scratch with gradient descent. The first order of business will be to understand how to compute the gradients of a function (the loss here) with respect to some of its arguments (the model weights here). The TensorFlow construct allowing us to do that is tf.GradientTape, which we will describe.\n",
        "\n",
        "At last we will create a simple training loop to learn the weights of a 1-dim linear regression using synthetic data generated from a linear model.\n",
        "\n",
        "As a bonus exercise, we will do the same for data generated from a non linear model, forcing us to manual engineer non-linear features to improve our linear model performance."
      ]
    },
    {
      "cell_type": "code",
      "metadata": {
        "id": "_jMdUhF5MMFK"
      },
      "source": [
        "import numpy as np\n",
        "from matplotlib import pyplot as plt"
      ],
      "execution_count": 14,
      "outputs": []
    },
    {
      "cell_type": "markdown",
      "metadata": {
        "id": "SwLvYCc8NDyZ"
      },
      "source": [
        "# **Operations on tensors**\n",
        "**Variables and Constants**\n",
        "Tensors in TensorFlow are either contant (tf.constant) or variables (tf.Variable). Constant values can not be changed, while variables values can be.\n",
        "\n",
        "The main difference is that instances of tf.Variable have methods allowing us to change their values while tensors constructed with tf.constant don't have these methods, and therefore their values can not be changed. When you want to change the value of a tf.Variable x use one of the following method:\n",
        "\n",
        "* x.assign(new_value)\n",
        "* x.assign_add(value_to_be_added)\n",
        "* x.assign_sub(value_to_be_subtracted"
      ]
    },
    {
      "cell_type": "code",
      "metadata": {
        "colab": {
          "base_uri": "https://localhost:8080/"
        },
        "id": "VFX4ikDsMbPH",
        "outputId": "9e6a26b5-e638-4e22-d9bb-416b6d642efd"
      },
      "source": [
        "x = tf.constant([2,3,4])\n",
        "x\n"
      ],
      "execution_count": 15,
      "outputs": [
        {
          "output_type": "execute_result",
          "data": {
            "text/plain": [
              "<tf.Tensor: shape=(3,), dtype=int32, numpy=array([2, 3, 4], dtype=int32)>"
            ]
          },
          "metadata": {
            "tags": []
          },
          "execution_count": 15
        }
      ]
    },
    {
      "cell_type": "code",
      "metadata": {
        "id": "fGElsCnvPVCe"
      },
      "source": [
        "x = tf.Variable(2.0,dtype = tf.float32,name = 'my_variable')\n"
      ],
      "execution_count": 17,
      "outputs": []
    },
    {
      "cell_type": "code",
      "metadata": {
        "colab": {
          "base_uri": "https://localhost:8080/"
        },
        "id": "rUSB5p6qPhmD",
        "outputId": "3bf2f3ac-4fed-4817-9e74-99f075634778"
      },
      "source": [
        "x.assign(45.8)"
      ],
      "execution_count": 18,
      "outputs": [
        {
          "output_type": "execute_result",
          "data": {
            "text/plain": [
              "<tf.Variable 'UnreadVariable' shape=() dtype=float32, numpy=45.8>"
            ]
          },
          "metadata": {
            "tags": []
          },
          "execution_count": 18
        }
      ]
    },
    {
      "cell_type": "code",
      "metadata": {
        "colab": {
          "base_uri": "https://localhost:8080/"
        },
        "id": "PwACIiFfPpp9",
        "outputId": "fa138caa-57f0-4b35-cd21-27c151b29b48"
      },
      "source": [
        "x.assign_add(4)"
      ],
      "execution_count": 19,
      "outputs": [
        {
          "output_type": "execute_result",
          "data": {
            "text/plain": [
              "<tf.Variable 'UnreadVariable' shape=() dtype=float32, numpy=49.8>"
            ]
          },
          "metadata": {
            "tags": []
          },
          "execution_count": 19
        }
      ]
    },
    {
      "cell_type": "markdown",
      "metadata": {
        "id": "WRlubyEFPxsb"
      },
      "source": [
        "# **Point wise Operators**\n",
        "Tensorflow offers similar point-wise tensor operations as numpy does:\n",
        "\n",
        "* tf.add allows to add the components of a tensor\n",
        "* tf.multiply allows us to multiply the components of a tensor\n",
        "* tf.subtract allow us to substract the components of a tensor\n",
        "* tf.math.* contains the usual math operations to be applied on the components of a tensor\n",
        "* and many more...\n",
        "Most of the standard arithmetic operations (tf.add, tf.substrac, etc.) are overloaded by the usual corresponding arithmetic symbols (+, -, etc.)\n",
        "\n",
        "Lab Task #1: Performing basic operations on Tensors\n",
        "\n",
        "* Compute the sum of the constants a and b below using tf.add and + and verify both operations produce the same values.\n",
        "* Compute the product of the constants a and b below using tf.multiply and * and verify both operations produce the same values.\n",
        "* Compute the exponential of the constant a using tf.math.exp. Note, you'll need to specify the type for this operation."
      ]
    },
    {
      "cell_type": "code",
      "metadata": {
        "colab": {
          "base_uri": "https://localhost:8080/"
        },
        "id": "BXSsmBjRPtd_",
        "outputId": "8316cfba-2f64-4a0b-b11f-08cd0d46f0e7"
      },
      "source": [
        "# Creates a constant tensor from a tensor-like object.\n",
        "a = tf.constant([5, 3, 8]) # TODO 1a\n",
        "b = tf.constant([3, -1, 2])\n",
        "# Using the .add() method components of a tensor will be added.\n",
        "c = tf.add(a, b)\n",
        "d = a + b\n",
        "\n",
        "# Let's output the value of `c` and `d`.\n",
        "print(\"c:\", c)\n",
        "print(\"d:\", d)"
      ],
      "execution_count": 20,
      "outputs": [
        {
          "output_type": "stream",
          "text": [
            "c: tf.Tensor([ 8  2 10], shape=(3,), dtype=int32)\n",
            "d: tf.Tensor([ 8  2 10], shape=(3,), dtype=int32)\n"
          ],
          "name": "stdout"
        }
      ]
    },
    {
      "cell_type": "code",
      "metadata": {
        "colab": {
          "base_uri": "https://localhost:8080/"
        },
        "id": "pDAvOVS-QIWM",
        "outputId": "435f6e75-2cb6-48f4-a407-d4dc07644e30"
      },
      "source": [
        "# Creates a constant tensor from a tensor-like object.\n",
        "a = tf.constant([5, 3, 8]) # TODO 1b\n",
        "b = tf.constant([3, -1, 2])\n",
        "# Using the .multiply() method components of a tensor will be multiplied.\n",
        "c = tf.multiply(a, b)\n",
        "d = a * b\n",
        "\n",
        "# Let's output the value of `c` and `d`.\n",
        "print(\"c:\", c)\n",
        "print(\"d:\", d)"
      ],
      "execution_count": 21,
      "outputs": [
        {
          "output_type": "stream",
          "text": [
            "c: tf.Tensor([15 -3 16], shape=(3,), dtype=int32)\n",
            "d: tf.Tensor([15 -3 16], shape=(3,), dtype=int32)\n"
          ],
          "name": "stdout"
        }
      ]
    },
    {
      "cell_type": "code",
      "metadata": {
        "colab": {
          "base_uri": "https://localhost:8080/"
        },
        "id": "FWAYzeDaQKn3",
        "outputId": "da16aa6d-bca0-498b-ec8c-54390ce0f7f3"
      },
      "source": [
        "# TODO 1c\n",
        "# tf.math.exp expects floats so we need to explicitly give the type\n",
        "a = tf.constant([5, 3, 8], dtype=tf.float32)\n",
        "b = tf.math.exp(a)\n",
        "\n",
        "# Let's output the value of `b`.\n",
        "print(\"b:\", b)"
      ],
      "execution_count": 22,
      "outputs": [
        {
          "output_type": "stream",
          "text": [
            "b: tf.Tensor([ 148.41316    20.085537 2980.958   ], shape=(3,), dtype=float32)\n"
          ],
          "name": "stdout"
        }
      ]
    },
    {
      "cell_type": "markdown",
      "metadata": {
        "id": "jPmuBgm-QaHU"
      },
      "source": [
        "# **NumPy Interoperability**\n",
        "In addition to native TF tensors, tensorflow operations can take native python types and NumPy arrays as operands."
      ]
    },
    {
      "cell_type": "code",
      "metadata": {
        "id": "Adw2ZuPHQM0b"
      },
      "source": [
        "# native python list\n",
        "a_py = [1, 2] \n",
        "b_py = [3, 4]\n",
        "\n"
      ],
      "execution_count": 23,
      "outputs": []
    },
    {
      "cell_type": "code",
      "metadata": {
        "colab": {
          "base_uri": "https://localhost:8080/"
        },
        "id": "n56GAAKhRawx",
        "outputId": "4bf79e55-18ee-4663-ac50-b199328fe69a"
      },
      "source": [
        "# Using the .add() method components of a tensor will be added.\n",
        "tf.add(a_py, b_py)\n"
      ],
      "execution_count": 24,
      "outputs": [
        {
          "output_type": "execute_result",
          "data": {
            "text/plain": [
              "<tf.Tensor: shape=(2,), dtype=int32, numpy=array([4, 6], dtype=int32)>"
            ]
          },
          "metadata": {
            "tags": []
          },
          "execution_count": 24
        }
      ]
    },
    {
      "cell_type": "code",
      "metadata": {
        "id": "tHMNpCJ-Rd1B"
      },
      "source": [
        "# numpy arrays\n",
        "a_np = np.array([1, 2])\n",
        "b_np = np.array([3, 4])"
      ],
      "execution_count": 25,
      "outputs": []
    },
    {
      "cell_type": "code",
      "metadata": {
        "colab": {
          "base_uri": "https://localhost:8080/"
        },
        "id": "LSaoLnz7Rfc0",
        "outputId": "eec24f61-18de-45b9-f6d5-b506d54b8598"
      },
      "source": [
        "# Using the .add() method components of a tensor will be added.\n",
        "tf.add(a_np, b_np)"
      ],
      "execution_count": 26,
      "outputs": [
        {
          "output_type": "execute_result",
          "data": {
            "text/plain": [
              "<tf.Tensor: shape=(2,), dtype=int64, numpy=array([4, 6])>"
            ]
          },
          "metadata": {
            "tags": []
          },
          "execution_count": 26
        }
      ]
    },
    {
      "cell_type": "code",
      "metadata": {
        "id": "DSGJ04Q2RhUv"
      },
      "source": [
        "# native TF tensor\n",
        "a_tf = tf.constant([1, 2])\n",
        "b_tf = tf.constant([3, 4])"
      ],
      "execution_count": 27,
      "outputs": []
    },
    {
      "cell_type": "code",
      "metadata": {
        "colab": {
          "base_uri": "https://localhost:8080/"
        },
        "id": "Y6DAMJMRRjHW",
        "outputId": "8bb7c981-a4d0-4850-b933-fde80914759a"
      },
      "source": [
        "\n",
        "# Using the .add() method components of a tensor will be added.\n",
        "tf.add(a_tf, b_tf)"
      ],
      "execution_count": 28,
      "outputs": [
        {
          "output_type": "execute_result",
          "data": {
            "text/plain": [
              "<tf.Tensor: shape=(2,), dtype=int32, numpy=array([4, 6], dtype=int32)>"
            ]
          },
          "metadata": {
            "tags": []
          },
          "execution_count": 28
        }
      ]
    },
    {
      "cell_type": "code",
      "metadata": {
        "id": "r7A0IjGaRkej"
      },
      "source": [
        "\n",
        "# Here using the .numpy() method we'll convert a `native TF tensor` to a `NumPy array`.\n",
        "a_tf.numpy()\n"
      ],
      "execution_count": null,
      "outputs": []
    },
    {
      "cell_type": "markdown",
      "metadata": {
        "id": "pvyHUKvVRohk"
      },
      "source": [
        "# **Linear Regression**\n",
        "Now let's use low level tensorflow operations to implement linear regression.\n",
        "\n",
        "Later in the course you'll see abstracted ways to do this using high level TensorFlow.\n",
        "\n",
        "**Toy Dataset**\n",
        "\n",
        "We'll model the following function:"
      ]
    },
    {
      "cell_type": "code",
      "metadata": {
        "colab": {
          "base_uri": "https://localhost:8080/"
        },
        "id": "lb20WLm6RtVT",
        "outputId": "fab6d137-2bfa-4689-c354-54fcc906510d"
      },
      "source": [
        "X = tf.constant(range(10), dtype=tf.float32)\n",
        "Y = 2 * X + 10\n",
        "\n",
        "print(\"X:{}\".format(X))\n",
        "print(\"Y:{}\".format(Y))"
      ],
      "execution_count": 29,
      "outputs": [
        {
          "output_type": "stream",
          "text": [
            "X:[0. 1. 2. 3. 4. 5. 6. 7. 8. 9.]\n",
            "Y:[10. 12. 14. 16. 18. 20. 22. 24. 26. 28.]\n"
          ],
          "name": "stdout"
        }
      ]
    },
    {
      "cell_type": "code",
      "metadata": {
        "colab": {
          "base_uri": "https://localhost:8080/"
        },
        "id": "yzrRVZyhSG9K",
        "outputId": "fc2ec8ce-b1f4-45fd-8bf2-7950255d2523"
      },
      "source": [
        "X_test = tf.constant(range(10, 20), dtype=tf.float32)\n",
        "Y_test = 2 * X_test + 10\n",
        "\n",
        "print(\"X_test:{}\".format(X_test))\n",
        "print(\"Y_test:{}\".format(Y_test))"
      ],
      "execution_count": 30,
      "outputs": [
        {
          "output_type": "stream",
          "text": [
            "X_test:[10. 11. 12. 13. 14. 15. 16. 17. 18. 19.]\n",
            "Y_test:[30. 32. 34. 36. 38. 40. 42. 44. 46. 48.]\n"
          ],
          "name": "stdout"
        }
      ]
    },
    {
      "cell_type": "markdown",
      "metadata": {
        "id": "FH9fhCN4U80j"
      },
      "source": [
        "# Loss Function:\n",
        "The simplest model we can build is a model that for each value of x returns the sample mean of the training set:"
      ]
    },
    {
      "cell_type": "code",
      "metadata": {
        "id": "68EUfpWISNK3"
      },
      "source": [
        "y_mean = Y.numpy().mean()\n",
        "\n",
        "\n",
        "def predict_mean(X):\n",
        "    y_hat = [y_mean] * len(X)\n",
        "    return y_hat\n",
        "\n",
        "Y_hat = predict_mean(X_test)"
      ],
      "execution_count": 31,
      "outputs": []
    },
    {
      "cell_type": "markdown",
      "metadata": {
        "id": "uQfFxhwdVn6d"
      },
      "source": [
        "Using mean squared error, our loss is:$$\n",
        "MSE = \\frac{1}{m}\\sum_{i=1}^{m}(\\hat{Y}_i-Y_i)^2\n",
        "$$\n",
        "\n",
        "For this simple model the loss is then:"
      ]
    },
    {
      "cell_type": "code",
      "metadata": {
        "colab": {
          "base_uri": "https://localhost:8080/"
        },
        "id": "ScSOVYDOVBjZ",
        "outputId": "45959410-fbe1-4acf-a159-38d92779201c"
      },
      "source": [
        "errors = (Y_hat - Y)**2\n",
        "loss = tf.reduce_mean(errors)\n",
        "loss.numpy()"
      ],
      "execution_count": 32,
      "outputs": [
        {
          "output_type": "execute_result",
          "data": {
            "text/plain": [
              "33.0"
            ]
          },
          "metadata": {
            "tags": []
          },
          "execution_count": 32
        }
      ]
    },
    {
      "cell_type": "markdown",
      "metadata": {
        "id": "qFP6b9ItV6yL"
      },
      "source": [
        "\n",
        "This values for the MSE loss above will give us a baseline to compare how a more complex model is doing.\n",
        "\n",
        "Now, if $\\hat{Y}$ represents the vector containing our model's predictions when we use a linear regression model$$\n",
        "\\hat{Y} = w_0X + w_1\n",
        "$$\n",
        "\n",
        "we can write a loss function taking as arguments the coefficients of the model:"
      ]
    },
    {
      "cell_type": "code",
      "metadata": {
        "id": "mxiOHlfFVtVa"
      },
      "source": [
        "\n",
        "def loss_mse(X, Y, w0, w1):\n",
        "    Y_hat = w0 * X + w1\n",
        "    errors = (Y_hat - Y)**2\n",
        "    return tf.reduce_mean(errors)"
      ],
      "execution_count": 33,
      "outputs": []
    },
    {
      "cell_type": "markdown",
      "metadata": {
        "id": "D2vNNR3VWiCK"
      },
      "source": [
        "# **Gradient Function**\n",
        "To use gradient descent we need to take the partial derivatives of the loss function with respect to each of the weights. We could manually compute the derivatives, but with Tensorflow's automatic differentiation capabilities we don't have to!\n",
        "\n",
        "During gradient descent we think of the loss as a function of the parameters $w_0$ and $w_1$. Thus, we want to compute the partial derivative with respect to these variables.\n",
        "\n",
        "For that we need to wrap our loss computation within the context of tf.GradientTape instance which will record gradient information:\n",
        "\n",
        "\n",
        "    with tf.GradientTape() as tape:\n",
        "   \n",
        "    loss = # computation\n",
        "This will allow us to later compute the gradients of any tensor computed within the tf.GradientTape context with respect to instances of tf.Variable:\n",
        "\n",
        "\n",
        "    gradients = tape.gradient(loss, [w0, w1])\n",
        "\n",
        "We illustrate this procedure by computing the loss gradients with respect to the model weights:"
      ]
    },
    {
      "cell_type": "code",
      "metadata": {
        "id": "irIGWROnWQ6p"
      },
      "source": [
        "# Let's define compute_gradients() procedure for computing the loss gradients with respect to the model weights:\n",
        "\n",
        "def compute_gradients(X, Y, w0, w1):\n",
        "    with tf.GradientTape() as tape:\n",
        "        loss = loss_mse(X, Y, w0, w1)\n",
        "    return tape.gradient(loss, [w0, w1])"
      ],
      "execution_count": 37,
      "outputs": []
    },
    {
      "cell_type": "code",
      "metadata": {
        "id": "3jQPuxWpXDXy"
      },
      "source": [
        "# The Variable() constructor requires an initial value for the variable, which can be a Tensor of any type and shape.\n",
        "w0 = tf.Variable(0.0)\n",
        "w1 = tf.Variable(0.0)\n",
        "\n",
        "dw0, dw1 = compute_gradients(X, Y, w0, w1)"
      ],
      "execution_count": 35,
      "outputs": []
    },
    {
      "cell_type": "code",
      "metadata": {
        "colab": {
          "base_uri": "https://localhost:8080/"
        },
        "id": "xHXmW3EFXH_r",
        "outputId": "b6249e6a-8aa4-4e91-e00f-14235fc08754"
      },
      "source": [
        "# Let's output the value of `dw0`.\n",
        "print(\"dw0:\", dw0.numpy())"
      ],
      "execution_count": 36,
      "outputs": [
        {
          "output_type": "stream",
          "text": [
            "dw0: -204.0\n"
          ],
          "name": "stdout"
        }
      ]
    },
    {
      "cell_type": "code",
      "metadata": {
        "colab": {
          "base_uri": "https://localhost:8080/"
        },
        "id": "zj5PTb6oXKAT",
        "outputId": "ae3ba140-2511-465b-9d34-225303aa7851"
      },
      "source": [
        "\n",
        "# Let's output the value of `dw1`.\n",
        "print(\"dw1\", dw1.numpy())"
      ],
      "execution_count": 38,
      "outputs": [
        {
          "output_type": "stream",
          "text": [
            "dw1 -38.0\n"
          ],
          "name": "stdout"
        }
      ]
    },
    {
      "cell_type": "markdown",
      "metadata": {
        "id": "Q1QNsISgXSyN"
      },
      "source": [
        "# **Training Loop**\n",
        "Here we have a very simple training loop that converges. Note we are ignoring best practices like batching, creating a separate test set, and random weight initialization for the sake of simplicity.\n",
        "\n",
        "Lab Task #3: Complete the for loop below to train a linear regression.\n",
        "\n",
        "* Use compute_gradients to compute dw0 and dw1.\n",
        "* Then, re-assign the value of w0 and w1 using the .assign_sub(...) method with the computed gradient values and the LEARNING_RATE.\n",
        "* Finally, for every 100th step , we'll compute and print the loss. Use the loss_mse function we created above to compute the loss."
      ]
    },
    {
      "cell_type": "code",
      "metadata": {
        "colab": {
          "base_uri": "https://localhost:8080/"
        },
        "id": "BZd-FE4DXO6z",
        "outputId": "a6ff9088-4fbc-46e9-e761-6902eec1211b"
      },
      "source": [
        "STEPS = 1000\n",
        "LEARNING_RATE = .02\n",
        "MSG = \"STEP {step} - loss: {loss}, w0: {w0}, w1: {w1}\\n\"\n",
        "\n",
        "\n",
        "# The Variable() constructor requires an initial value for the variable, which can be a Tensor of any type and shape.\n",
        "w0 = tf.Variable(0.0)\n",
        "w1 = tf.Variable(0.0)\n",
        "\n",
        "\n",
        "for step in range(0, STEPS + 1):\n",
        "\n",
        "    dw0, dw1 = compute_gradients(X, Y, w0, w1)\n",
        "    w0.assign_sub(dw0 * LEARNING_RATE)\n",
        "    w1.assign_sub(dw1 * LEARNING_RATE)\n",
        "\n",
        "    if step % 100 == 0:\n",
        "        loss = loss_mse(X, Y, w0, w1)\n",
        "        print(MSG.format(step=step, loss=loss, w0=w0.numpy(), w1=w1.numpy()))"
      ],
      "execution_count": 39,
      "outputs": [
        {
          "output_type": "stream",
          "text": [
            "STEP 0 - loss: 35.70719528198242, w0: 4.079999923706055, w1: 0.7599999904632568\n",
            "\n",
            "STEP 100 - loss: 2.6017532348632812, w0: 2.4780430793762207, w1: 7.002389907836914\n",
            "\n",
            "STEP 200 - loss: 0.26831889152526855, w0: 2.153517961502075, w1: 9.037351608276367\n",
            "\n",
            "STEP 300 - loss: 0.027671903371810913, w0: 2.0493006706237793, w1: 9.690855979919434\n",
            "\n",
            "STEP 400 - loss: 0.0028539239428937435, w0: 2.0158326625823975, w1: 9.90071964263916\n",
            "\n",
            "STEP 500 - loss: 0.0002943490108009428, w0: 2.005084753036499, w1: 9.96811580657959\n",
            "\n",
            "STEP 600 - loss: 3.0356444767676294e-05, w0: 2.0016329288482666, w1: 9.989760398864746\n",
            "\n",
            "STEP 700 - loss: 3.1322738323069643e-06, w0: 2.0005245208740234, w1: 9.996710777282715\n",
            "\n",
            "STEP 800 - loss: 3.2238213520940917e-07, w0: 2.0001683235168457, w1: 9.998944282531738\n",
            "\n",
            "STEP 900 - loss: 3.369950718479231e-08, w0: 2.000054359436035, w1: 9.999658584594727\n",
            "\n",
            "STEP 1000 - loss: 3.6101481803996194e-09, w0: 2.0000178813934326, w1: 9.99988842010498\n",
            "\n"
          ],
          "name": "stdout"
        }
      ]
    },
    {
      "cell_type": "code",
      "metadata": {
        "colab": {
          "base_uri": "https://localhost:8080/"
        },
        "id": "agWBOqLXYLqA",
        "outputId": "8212e93b-468f-4ba3-d76c-7383182321be"
      },
      "source": [
        "# Here we can compare the test loss for this linear regression to the test loss from the baseline model.\n",
        "# Its output will always be the mean of the training set:\n",
        "loss = loss_mse(X_test, Y_test, w0, w1)\n",
        "loss.numpy()"
      ],
      "execution_count": 40,
      "outputs": [
        {
          "output_type": "execute_result",
          "data": {
            "text/plain": [
              "2.4563633e-08"
            ]
          },
          "metadata": {
            "tags": []
          },
          "execution_count": 40
        }
      ]
    },
    {
      "cell_type": "code",
      "metadata": {
        "id": "AuIUJ0sSYlPn"
      },
      "source": [
        "\n",
        "X = tf.constant(np.linspace(0, 2, 1000), dtype=tf.float32)\n",
        "Y = X * tf.exp(-X**2)"
      ],
      "execution_count": 41,
      "outputs": []
    },
    {
      "cell_type": "code",
      "metadata": {
        "colab": {
          "base_uri": "https://localhost:8080/",
          "height": 282
        },
        "id": "b6LM6M20Yr40",
        "outputId": "f022b14d-b573-4a1b-d6a7-d72acd91941c"
      },
      "source": [
        "%matplotlib inline\n",
        "\n",
        "# The .plot() is a versatile function, and will take an arbitrary number of arguments. For example, to plot x versus y.\n",
        "plt.plot(X, Y)"
      ],
      "execution_count": 42,
      "outputs": [
        {
          "output_type": "execute_result",
          "data": {
            "text/plain": [
              "[<matplotlib.lines.Line2D at 0x7f0877832dd8>]"
            ]
          },
          "metadata": {
            "tags": []
          },
          "execution_count": 42
        },
        {
          "output_type": "display_data",
          "data": {
            "image/png": "[encoded data removed]",
            "text/plain": [
              "<Figure size 432x288 with 1 Axes>"
            ]
          },
          "metadata": {
            "tags": [],
            "needs_background": "light"
          }
        }
      ]
    },
    {
      "cell_type": "code",
      "metadata": {
        "id": "b1Mslt-RYtmP"
      },
      "source": [
        ""
      ],
      "execution_count": null,
      "outputs": []
    }
  ]
}