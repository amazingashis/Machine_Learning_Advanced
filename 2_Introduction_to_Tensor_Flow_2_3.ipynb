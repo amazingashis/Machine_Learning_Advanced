{
  "nbformat": 4,
  "nbformat_minor": 0,
  "metadata": {
    "colab": {
      "name": "2_Introduction_to_Tensor_Flow_2.3.ipynb",
      "provenance": [],
      "collapsed_sections": [],
      "authorship_tag": "ABX9TyMtyWJ1UoQ19gjswamnM13T",
      "include_colab_link": true
    },
    "kernelspec": {
      "name": "python3",
      "display_name": "Python 3"
    },
    "accelerator": "TPU"
  },
  "cells": [
    {
      "cell_type": "markdown",
      "metadata": {
        "id": "view-in-github",
        "colab_type": "text"
      },
      "source": [
        "<a href=\"https://colab.research.google.com/github/amazingashis/Machine_Learning_Advanced/blob/main/2_Introduction_to_Tensor_Flow_2_3.ipynb\" target=\"_parent\"><img src=\"https://colab.research.google.com/assets/colab-badge.svg\" alt=\"Open In Colab\"/></a>"
      ]
    },
    {
      "cell_type": "code",
      "metadata": {
        "id": "RrcblBkwtup9"
      },
      "source": [
        ""
      ],
      "execution_count": null,
      "outputs": []
    },
    {
      "cell_type": "markdown",
      "metadata": {
        "id": "aB5tykfi0m8h"
      },
      "source": [
        "# **Introduction to Tensorflow**\n",
        "\n",
        "<img src = \"https://camo.githubusercontent.com/127d2d82f76ed9d98414011fd743b58e7c094ce4/68747470733a2f2f6d69726f2e6d656469756d2e636f6d2f6d61782f313032352f312a7657734978594733456b5237435f6c737a69715046512e706e67\"/>\n",
        "\n",
        "# **What is Tensor?**\n",
        "A tensor is an N-dimensional array of data\n",
        "\n",
        "<img src = \"https://camo.githubusercontent.com/7b892ce75089d13d7a55a9e3ba037171cd9a1e99/68747470733a2f2f7261772e67697468756275736572636f6e74656e742e636f6d2f6d68757a616966616465762f6d6c5f7a65726f5f746f5f6865726f2f6d61737465722f74656e736f722e706e673f746f6b656e3d414d534753515a445a5a4f4732484e4c4b4d5837534753373258345134\"/>\n",
        "\n",
        "\n",
        "# **Components of TensorFlow: Tensors and Variables**\n",
        "\n"
      ]
    },
    {
      "cell_type": "code",
      "metadata": {
        "colab": {
          "base_uri": "https://localhost:8080/"
        },
        "id": "3GWPc8Xw1EAr",
        "outputId": "08199089-b984-418a-a66b-be116088a9ba"
      },
      "source": [
        "import tensorflow as tf\n",
        "\n",
        "print(tf.__version__)"
      ],
      "execution_count": 1,
      "outputs": [
        {
          "output_type": "stream",
          "text": [
            "2.3.0\n"
          ],
          "name": "stdout"
        }
      ]
    },
    {
      "cell_type": "code",
      "metadata": {
        "colab": {
          "base_uri": "https://localhost:8080/"
        },
        "id": "CLvTovzr3UNo",
        "outputId": "054981de-df05-4550-8262-2e9948dbaf0d"
      },
      "source": [
        "import numpy as np\n",
        "print(np.__version__)"
      ],
      "execution_count": 2,
      "outputs": [
        {
          "output_type": "stream",
          "text": [
            "1.18.5\n"
          ],
          "name": "stdout"
        }
      ]
    },
    {
      "cell_type": "code",
      "metadata": {
        "colab": {
          "base_uri": "https://localhost:8080/"
        },
        "id": "Yu-bpemV3b0T",
        "outputId": "6024654c-e045-4a37-8cc8-6f47fe713f5e"
      },
      "source": [
        "x = tf.constant([[3,5,7],[4,6,8]])\n",
        "x"
      ],
      "execution_count": 4,
      "outputs": [
        {
          "output_type": "execute_result",
          "data": {
            "text/plain": [
              "<tf.Tensor: shape=(2, 3), dtype=int32, numpy=\n",
              "array([[3, 5, 7],\n",
              "       [4, 6, 8]], dtype=int32)>"
            ]
          },
          "metadata": {
            "tags": []
          },
          "execution_count": 4
        }
      ]
    },
    {
      "cell_type": "code",
      "metadata": {
        "colab": {
          "base_uri": "https://localhost:8080/"
        },
        "id": "d5mqm4h03oNK",
        "outputId": "1fec62a6-5afc-46df-d228-c16e3654becc"
      },
      "source": [
        "y = x[:,1]\n",
        "y"
      ],
      "execution_count": 5,
      "outputs": [
        {
          "output_type": "execute_result",
          "data": {
            "text/plain": [
              "<tf.Tensor: shape=(2,), dtype=int32, numpy=array([5, 6], dtype=int32)>"
            ]
          },
          "metadata": {
            "tags": []
          },
          "execution_count": 5
        }
      ]
    },
    {
      "cell_type": "code",
      "metadata": {
        "colab": {
          "base_uri": "https://localhost:8080/"
        },
        "id": "qgPWuQf84a5f",
        "outputId": "23ca55f1-52ad-4f73-a4c1-464c566739cf"
      },
      "source": [
        "y = tf.reshape(x,[3,2])\n",
        "y"
      ],
      "execution_count": 6,
      "outputs": [
        {
          "output_type": "execute_result",
          "data": {
            "text/plain": [
              "<tf.Tensor: shape=(3, 2), dtype=int32, numpy=\n",
              "array([[3, 5],\n",
              "       [7, 4],\n",
              "       [6, 8]], dtype=int32)>"
            ]
          },
          "metadata": {
            "tags": []
          },
          "execution_count": 6
        }
      ]
    },
    {
      "cell_type": "code",
      "metadata": {
        "colab": {
          "base_uri": "https://localhost:8080/"
        },
        "id": "_6xoNpH04yTz",
        "outputId": "49b63d5f-c86d-4870-9ef6-b4b9627137f8"
      },
      "source": [
        "#Here is a \"scalar\" or \"rank-0\" tensor . A scalar contains a single value, and no \"axes\".\n",
        "rank_0_tensor = tf.constant(4)\n",
        "print(rank_0_tensor)"
      ],
      "execution_count": 7,
      "outputs": [
        {
          "output_type": "stream",
          "text": [
            "tf.Tensor(4, shape=(), dtype=int32)\n"
          ],
          "name": "stdout"
        }
      ]
    },
    {
      "cell_type": "code",
      "metadata": {
        "colab": {
          "base_uri": "https://localhost:8080/"
        },
        "id": "JYF0VLzq5lY3",
        "outputId": "c14ed666-b02f-4609-bc92-b3faf47bb594"
      },
      "source": [
        "rank_1_tensor = tf.constant([2.0,3.0,4.0])\n",
        "print(rank_1_tensor)"
      ],
      "execution_count": 8,
      "outputs": [
        {
          "output_type": "stream",
          "text": [
            "tf.Tensor([2. 3. 4.], shape=(3,), dtype=float32)\n"
          ],
          "name": "stdout"
        }
      ]
    },
    {
      "cell_type": "code",
      "metadata": {
        "colab": {
          "base_uri": "https://localhost:8080/"
        },
        "id": "IdLOnDVi59r2",
        "outputId": "0416ec35-03f7-48b3-9b11-71fe76796f5f"
      },
      "source": [
        "rank_2_sensor = tf.constant([[1,2],[3,4],[5,6]])\n",
        "print(rank_2_sensor)"
      ],
      "execution_count": 9,
      "outputs": [
        {
          "output_type": "stream",
          "text": [
            "tf.Tensor(\n",
            "[[1 2]\n",
            " [3 4]\n",
            " [5 6]], shape=(3, 2), dtype=int32)\n"
          ],
          "name": "stdout"
        }
      ]
    },
    {
      "cell_type": "markdown",
      "metadata": {
        "id": "s0PyyAff698S"
      },
      "source": [
        "<img src = \"https://camo.githubusercontent.com/a27c59b02b8c3aa85b1b48b2c35af7500ad2660c/68747470733a2f2f7261772e67697468756275736572636f6e74656e742e636f6d2f6d68757a616966616465762f6d6c5f7a65726f5f746f5f6865726f2f6d61737465722f74656e732e706e673f746f6b656e3d414d53475351334633374d554b56324f535a5957354c32373259424749\"/>"
      ]
    },
    {
      "cell_type": "code",
      "metadata": {
        "colab": {
          "base_uri": "https://localhost:8080/"
        },
        "id": "Vb0iLGY361XJ",
        "outputId": "0509c3fa-59f4-4206-ccb0-dd5fed76c249"
      },
      "source": [
        "# There can be an arbitrary number of\n",
        "# axes (sometimes called \"dimensions\")\n",
        "rank_3_tensor = tf.constant([\n",
        "  [[0, 1, 2, 3, 4],\n",
        "   [5, 6, 7, 8, 9]],\n",
        "  [[10, 11, 12, 13, 14],\n",
        "   [15, 16, 17, 18, 19]],\n",
        "  [[20, 21, 22, 23, 24],\n",
        "   [25, 26, 27, 28, 29]],])\n",
        "                    \n",
        "print(rank_3_tensor)"
      ],
      "execution_count": 10,
      "outputs": [
        {
          "output_type": "stream",
          "text": [
            "tf.Tensor(\n",
            "[[[ 0  1  2  3  4]\n",
            "  [ 5  6  7  8  9]]\n",
            "\n",
            " [[10 11 12 13 14]\n",
            "  [15 16 17 18 19]]\n",
            "\n",
            " [[20 21 22 23 24]\n",
            "  [25 26 27 28 29]]], shape=(3, 2, 5), dtype=int32)\n"
          ],
          "name": "stdout"
        }
      ]
    },
    {
      "cell_type": "markdown",
      "metadata": {
        "id": "LCQfUxjd7v4I"
      },
      "source": [
        "<img src = \"https://camo.githubusercontent.com/41417d186a7bbd3587f5992e1163c0eeb4290efe/68747470733a2f2f7261772e67697468756275736572636f6e74656e742e636f6d2f6d68757a616966616465762f6d6c5f7a65726f5f746f5f6865726f2f6d61737465722f336178697374656e736f722e706e673f746f6b656e3d414d5347535137575958575754485a4c5a364841324e53373259425232\"/>\n",
        "\n",
        "**you can convert a tensor to a NumPy array either using np.array or the tensor.numpy method:**"
      ]
    },
    {
      "cell_type": "code",
      "metadata": {
        "colab": {
          "base_uri": "https://localhost:8080/"
        },
        "id": "87E42vUv7Ya8",
        "outputId": "eff17abc-472c-47e8-ecf9-7a944f92d4d4"
      },
      "source": [
        "np.array(rank_2_sensor)"
      ],
      "execution_count": 11,
      "outputs": [
        {
          "output_type": "execute_result",
          "data": {
            "text/plain": [
              "array([[1, 2],\n",
              "       [3, 4],\n",
              "       [5, 6]], dtype=int32)"
            ]
          },
          "metadata": {
            "tags": []
          },
          "execution_count": 11
        }
      ]
    },
    {
      "cell_type": "code",
      "metadata": {
        "colab": {
          "base_uri": "https://localhost:8080/"
        },
        "id": "KlZGoZ5G8LYW",
        "outputId": "480d54f4-72b5-4792-d68e-f5d36742b940"
      },
      "source": [
        "rank_2_sensor.numpy"
      ],
      "execution_count": 12,
      "outputs": [
        {
          "output_type": "execute_result",
          "data": {
            "text/plain": [
              "<bound method _EagerTensorBase.numpy of <tf.Tensor: shape=(3, 2), dtype=int32, numpy=\n",
              "array([[1, 2],\n",
              "       [3, 4],\n",
              "       [5, 6]], dtype=int32)>>"
            ]
          },
          "metadata": {
            "tags": []
          },
          "execution_count": 12
        }
      ]
    },
    {
      "cell_type": "markdown",
      "metadata": {
        "id": "lR3o7hqa8Zff"
      },
      "source": [
        "**We can do basic math on tensors, including addition, element-wise multiplication, and matrix multiplication**"
      ]
    },
    {
      "cell_type": "code",
      "metadata": {
        "colab": {
          "base_uri": "https://localhost:8080/"
        },
        "id": "wsfHIoEx8VRT",
        "outputId": "49409331-cd7c-4042-96e3-888d796afe76"
      },
      "source": [
        "a = tf.constant([[1, 2],\n",
        "                 [3, 4]])\n",
        "b = tf.constant([[1, 1],\n",
        "                 [1, 1]]) # Could have also said `tf.ones([2,2])`\n",
        "\n",
        "print(tf.add(a,b),\"\\n\")\n",
        "\n",
        "print(tf.multiply(a,b),\"\\n\")\n",
        "\n",
        "print(tf.matmul(a,b),\"\\n\")"
      ],
      "execution_count": 13,
      "outputs": [
        {
          "output_type": "stream",
          "text": [
            "tf.Tensor(\n",
            "[[2 3]\n",
            " [4 5]], shape=(2, 2), dtype=int32) \n",
            "\n",
            "tf.Tensor(\n",
            "[[1 2]\n",
            " [3 4]], shape=(2, 2), dtype=int32) \n",
            "\n",
            "tf.Tensor(\n",
            "[[3 3]\n",
            " [7 7]], shape=(2, 2), dtype=int32) \n",
            "\n"
          ],
          "name": "stdout"
        }
      ]
    },
    {
      "cell_type": "code",
      "metadata": {
        "colab": {
          "base_uri": "https://localhost:8080/"
        },
        "id": "bv9GMARA82G7",
        "outputId": "7fcdfcdc-91e0-4b9e-fdca-cae035ccf6ac"
      },
      "source": [
        "print(a + b, \"\\n\") # element-wise addition\n",
        "print(a * b, \"\\n\") # element-wise multiplication\n",
        "print(a @ b, \"\\n\") # matrix multiplication"
      ],
      "execution_count": 14,
      "outputs": [
        {
          "output_type": "stream",
          "text": [
            "tf.Tensor(\n",
            "[[2 3]\n",
            " [4 5]], shape=(2, 2), dtype=int32) \n",
            "\n",
            "tf.Tensor(\n",
            "[[1 2]\n",
            " [3 4]], shape=(2, 2), dtype=int32) \n",
            "\n",
            "tf.Tensor(\n",
            "[[3 3]\n",
            " [7 7]], shape=(2, 2), dtype=int32) \n",
            "\n"
          ],
          "name": "stdout"
        }
      ]
    },
    {
      "cell_type": "markdown",
      "metadata": {
        "id": "cUHA3PZz_kj8"
      },
      "source": [
        "**Tensors are used in all kinds of operations (ops).**"
      ]
    },
    {
      "cell_type": "code",
      "metadata": {
        "colab": {
          "base_uri": "https://localhost:8080/"
        },
        "id": "MV6_fMKT9AWy",
        "outputId": "abe4d286-4d55-4aec-f201-1f3c59a07cba"
      },
      "source": [
        "c = tf.constant([[4.0, 5.0], [10.0, 1.0]])\n",
        "\n",
        "#Find the largest values\n",
        "print(tf.reduce_max(c))\n",
        "\n",
        "#Find the index of largest value\n",
        "\n",
        "print(tf.math.argmax(c))\n",
        "\n",
        "#Compute the Softmax\n",
        "tf.nn.softmax(c)"
      ],
      "execution_count": 15,
      "outputs": [
        {
          "output_type": "stream",
          "text": [
            "tf.Tensor(10.0, shape=(), dtype=float32)\n",
            "tf.Tensor([1 0], shape=(2,), dtype=int64)\n"
          ],
          "name": "stdout"
        },
        {
          "output_type": "execute_result",
          "data": {
            "text/plain": [
              "<tf.Tensor: shape=(2, 2), dtype=float32, numpy=\n",
              "array([[2.6894143e-01, 7.3105860e-01],\n",
              "       [9.9987662e-01, 1.2339458e-04]], dtype=float32)>"
            ]
          },
          "metadata": {
            "tags": []
          },
          "execution_count": 15
        }
      ]
    },
    {
      "cell_type": "markdown",
      "metadata": {
        "id": "GdglKuizC0VF"
      },
      "source": [
        "\n",
        "# **About Shapes**\n",
        "Tensors have shapes. Some vocabulary:\n",
        "\n",
        "\n",
        "* Shape: The length (number of elements) of each of the dimensions of a tensor.\n",
        "* Rank: Number of tensor dimensions. A scalar has rank 0, a vector has rank 1, a matrix is rank 2.\n",
        "* Axis or Dimension: A particular dimension of a tensor.\n",
        "* Size: The total number of items in the tensor, the product shape vector\n",
        "\n",
        "\n",
        "Note: Although you may see reference to a \"tensor of two dimensions\", a rank-2 tensor does not usually describe a 2D space.\n",
        "\n",
        "Tensors and tf.TensorShape objects have convenient properties for accessing these:\n",
        "\n"
      ]
    },
    {
      "cell_type": "code",
      "metadata": {
        "id": "3ci3WY5NBDZD"
      },
      "source": [
        ""
      ],
      "execution_count": null,
      "outputs": []
    }
  ]
}