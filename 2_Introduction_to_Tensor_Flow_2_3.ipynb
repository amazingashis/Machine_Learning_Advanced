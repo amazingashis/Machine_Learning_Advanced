{
  "nbformat": 4,
  "nbformat_minor": 0,
  "metadata": {
    "colab": {
      "name": "2_Introduction_to_Tensor_Flow_2.3.ipynb",
      "provenance": [],
      "collapsed_sections": [],
      "authorship_tag": "ABX9TyPKjNqtaKkhSK4yyaS19mac",
      "include_colab_link": true
    },
    "kernelspec": {
      "name": "python3",
      "display_name": "Python 3"
    },
    "accelerator": "TPU"
  },
  "cells": [
    {
      "cell_type": "markdown",
      "metadata": {
        "id": "view-in-github",
        "colab_type": "text"
      },
      "source": [
        "<a href=\"https://colab.research.google.com/github/amazingashis/Machine_Learning_Advanced/blob/main/2_Introduction_to_Tensor_Flow_2_3.ipynb\" target=\"_parent\"><img src=\"https://colab.research.google.com/assets/colab-badge.svg\" alt=\"Open In Colab\"/></a>"
      ]
    },
    {
      "cell_type": "code",
      "metadata": {
        "id": "RrcblBkwtup9"
      },
      "source": [
        ""
      ],
      "execution_count": null,
      "outputs": []
    },
    {
      "cell_type": "markdown",
      "metadata": {
        "id": "aB5tykfi0m8h"
      },
      "source": [
        "# **Introduction to Tensorflow**\n",
        "\n",
        "<img src = \"https://camo.githubusercontent.com/127d2d82f76ed9d98414011fd743b58e7c094ce4/68747470733a2f2f6d69726f2e6d656469756d2e636f6d2f6d61782f313032352f312a7657734978594733456b5237435f6c737a69715046512e706e67\"/>\n",
        "\n",
        "# **What is Tensor?**\n",
        "A tensor is an N-dimensional array of data\n",
        "\n",
        "<img src = \"https://camo.githubusercontent.com/7b892ce75089d13d7a55a9e3ba037171cd9a1e99/68747470733a2f2f7261772e67697468756275736572636f6e74656e742e636f6d2f6d68757a616966616465762f6d6c5f7a65726f5f746f5f6865726f2f6d61737465722f74656e736f722e706e673f746f6b656e3d414d534753515a445a5a4f4732484e4c4b4d5837534753373258345134\"/>\n",
        "\n",
        "\n",
        "# **Components of TensorFlow: Tensors and Variables**\n",
        "\n"
      ]
    },
    {
      "cell_type": "code",
      "metadata": {
        "colab": {
          "base_uri": "https://localhost:8080/"
        },
        "id": "3GWPc8Xw1EAr",
        "outputId": "08199089-b984-418a-a66b-be116088a9ba"
      },
      "source": [
        "import tensorflow as tf\n",
        "\n",
        "print(tf.__version__)"
      ],
      "execution_count": 1,
      "outputs": [
        {
          "output_type": "stream",
          "text": [
            "2.3.0\n"
          ],
          "name": "stdout"
        }
      ]
    },
    {
      "cell_type": "code",
      "metadata": {
        "colab": {
          "base_uri": "https://localhost:8080/"
        },
        "id": "CLvTovzr3UNo",
        "outputId": "054981de-df05-4550-8262-2e9948dbaf0d"
      },
      "source": [
        "import numpy as np\n",
        "print(np.__version__)"
      ],
      "execution_count": 2,
      "outputs": [
        {
          "output_type": "stream",
          "text": [
            "1.18.5\n"
          ],
          "name": "stdout"
        }
      ]
    },
    {
      "cell_type": "code",
      "metadata": {
        "colab": {
          "base_uri": "https://localhost:8080/"
        },
        "id": "Yu-bpemV3b0T",
        "outputId": "6024654c-e045-4a37-8cc8-6f47fe713f5e"
      },
      "source": [
        "x = tf.constant([[3,5,7],[4,6,8]])\n",
        "x"
      ],
      "execution_count": 4,
      "outputs": [
        {
          "output_type": "execute_result",
          "data": {
            "text/plain": [
              "<tf.Tensor: shape=(2, 3), dtype=int32, numpy=\n",
              "array([[3, 5, 7],\n",
              "       [4, 6, 8]], dtype=int32)>"
            ]
          },
          "metadata": {
            "tags": []
          },
          "execution_count": 4
        }
      ]
    },
    {
      "cell_type": "code",
      "metadata": {
        "colab": {
          "base_uri": "https://localhost:8080/"
        },
        "id": "d5mqm4h03oNK",
        "outputId": "1fec62a6-5afc-46df-d228-c16e3654becc"
      },
      "source": [
        "y = x[:,1]\n",
        "y"
      ],
      "execution_count": 5,
      "outputs": [
        {
          "output_type": "execute_result",
          "data": {
            "text/plain": [
              "<tf.Tensor: shape=(2,), dtype=int32, numpy=array([5, 6], dtype=int32)>"
            ]
          },
          "metadata": {
            "tags": []
          },
          "execution_count": 5
        }
      ]
    },
    {
      "cell_type": "code",
      "metadata": {
        "colab": {
          "base_uri": "https://localhost:8080/"
        },
        "id": "qgPWuQf84a5f",
        "outputId": "23ca55f1-52ad-4f73-a4c1-464c566739cf"
      },
      "source": [
        "y = tf.reshape(x,[3,2])\n",
        "y"
      ],
      "execution_count": 6,
      "outputs": [
        {
          "output_type": "execute_result",
          "data": {
            "text/plain": [
              "<tf.Tensor: shape=(3, 2), dtype=int32, numpy=\n",
              "array([[3, 5],\n",
              "       [7, 4],\n",
              "       [6, 8]], dtype=int32)>"
            ]
          },
          "metadata": {
            "tags": []
          },
          "execution_count": 6
        }
      ]
    },
    {
      "cell_type": "code",
      "metadata": {
        "colab": {
          "base_uri": "https://localhost:8080/"
        },
        "id": "_6xoNpH04yTz",
        "outputId": "49b63d5f-c86d-4870-9ef6-b4b9627137f8"
      },
      "source": [
        "#Here is a \"scalar\" or \"rank-0\" tensor . A scalar contains a single value, and no \"axes\".\n",
        "rank_0_tensor = tf.constant(4)\n",
        "print(rank_0_tensor)"
      ],
      "execution_count": 7,
      "outputs": [
        {
          "output_type": "stream",
          "text": [
            "tf.Tensor(4, shape=(), dtype=int32)\n"
          ],
          "name": "stdout"
        }
      ]
    },
    {
      "cell_type": "code",
      "metadata": {
        "colab": {
          "base_uri": "https://localhost:8080/"
        },
        "id": "JYF0VLzq5lY3",
        "outputId": "c14ed666-b02f-4609-bc92-b3faf47bb594"
      },
      "source": [
        "rank_1_tensor = tf.constant([2.0,3.0,4.0])\n",
        "print(rank_1_tensor)"
      ],
      "execution_count": 8,
      "outputs": [
        {
          "output_type": "stream",
          "text": [
            "tf.Tensor([2. 3. 4.], shape=(3,), dtype=float32)\n"
          ],
          "name": "stdout"
        }
      ]
    },
    {
      "cell_type": "code",
      "metadata": {
        "colab": {
          "base_uri": "https://localhost:8080/"
        },
        "id": "IdLOnDVi59r2",
        "outputId": "0416ec35-03f7-48b3-9b11-71fe76796f5f"
      },
      "source": [
        "rank_2_sensor = tf.constant([[1,2],[3,4],[5,6]])\n",
        "print(rank_2_sensor)"
      ],
      "execution_count": 9,
      "outputs": [
        {
          "output_type": "stream",
          "text": [
            "tf.Tensor(\n",
            "[[1 2]\n",
            " [3 4]\n",
            " [5 6]], shape=(3, 2), dtype=int32)\n"
          ],
          "name": "stdout"
        }
      ]
    },
    {
      "cell_type": "markdown",
      "metadata": {
        "id": "s0PyyAff698S"
      },
      "source": [
        "<img src = \"https://camo.githubusercontent.com/a27c59b02b8c3aa85b1b48b2c35af7500ad2660c/68747470733a2f2f7261772e67697468756275736572636f6e74656e742e636f6d2f6d68757a616966616465762f6d6c5f7a65726f5f746f5f6865726f2f6d61737465722f74656e732e706e673f746f6b656e3d414d53475351334633374d554b56324f535a5957354c32373259424749\"/>"
      ]
    },
    {
      "cell_type": "code",
      "metadata": {
        "colab": {
          "base_uri": "https://localhost:8080/"
        },
        "id": "Vb0iLGY361XJ",
        "outputId": "0509c3fa-59f4-4206-ccb0-dd5fed76c249"
      },
      "source": [
        "# There can be an arbitrary number of\n",
        "# axes (sometimes called \"dimensions\")\n",
        "rank_3_tensor = tf.constant([\n",
        "  [[0, 1, 2, 3, 4],\n",
        "   [5, 6, 7, 8, 9]],\n",
        "  [[10, 11, 12, 13, 14],\n",
        "   [15, 16, 17, 18, 19]],\n",
        "  [[20, 21, 22, 23, 24],\n",
        "   [25, 26, 27, 28, 29]],])\n",
        "                    \n",
        "print(rank_3_tensor)"
      ],
      "execution_count": 10,
      "outputs": [
        {
          "output_type": "stream",
          "text": [
            "tf.Tensor(\n",
            "[[[ 0  1  2  3  4]\n",
            "  [ 5  6  7  8  9]]\n",
            "\n",
            " [[10 11 12 13 14]\n",
            "  [15 16 17 18 19]]\n",
            "\n",
            " [[20 21 22 23 24]\n",
            "  [25 26 27 28 29]]], shape=(3, 2, 5), dtype=int32)\n"
          ],
          "name": "stdout"
        }
      ]
    },
    {
      "cell_type": "markdown",
      "metadata": {
        "id": "LCQfUxjd7v4I"
      },
      "source": [
        "<img src = \"https://camo.githubusercontent.com/41417d186a7bbd3587f5992e1163c0eeb4290efe/68747470733a2f2f7261772e67697468756275736572636f6e74656e742e636f6d2f6d68757a616966616465762f6d6c5f7a65726f5f746f5f6865726f2f6d61737465722f336178697374656e736f722e706e673f746f6b656e3d414d5347535137575958575754485a4c5a364841324e53373259425232\"/>\n",
        "\n",
        "**you can convert a tensor to a NumPy array either using np.array or the tensor.numpy method:**"
      ]
    },
    {
      "cell_type": "code",
      "metadata": {
        "colab": {
          "base_uri": "https://localhost:8080/"
        },
        "id": "87E42vUv7Ya8",
        "outputId": "eff17abc-472c-47e8-ecf9-7a944f92d4d4"
      },
      "source": [
        "np.array(rank_2_sensor)"
      ],
      "execution_count": 11,
      "outputs": [
        {
          "output_type": "execute_result",
          "data": {
            "text/plain": [
              "array([[1, 2],\n",
              "       [3, 4],\n",
              "       [5, 6]], dtype=int32)"
            ]
          },
          "metadata": {
            "tags": []
          },
          "execution_count": 11
        }
      ]
    },
    {
      "cell_type": "code",
      "metadata": {
        "colab": {
          "base_uri": "https://localhost:8080/"
        },
        "id": "KlZGoZ5G8LYW",
        "outputId": "480d54f4-72b5-4792-d68e-f5d36742b940"
      },
      "source": [
        "rank_2_sensor.numpy"
      ],
      "execution_count": 12,
      "outputs": [
        {
          "output_type": "execute_result",
          "data": {
            "text/plain": [
              "<bound method _EagerTensorBase.numpy of <tf.Tensor: shape=(3, 2), dtype=int32, numpy=\n",
              "array([[1, 2],\n",
              "       [3, 4],\n",
              "       [5, 6]], dtype=int32)>>"
            ]
          },
          "metadata": {
            "tags": []
          },
          "execution_count": 12
        }
      ]
    },
    {
      "cell_type": "markdown",
      "metadata": {
        "id": "lR3o7hqa8Zff"
      },
      "source": [
        "**We can do basic math on tensors, including addition, element-wise multiplication, and matrix multiplication**"
      ]
    },
    {
      "cell_type": "code",
      "metadata": {
        "colab": {
          "base_uri": "https://localhost:8080/"
        },
        "id": "wsfHIoEx8VRT",
        "outputId": "49409331-cd7c-4042-96e3-888d796afe76"
      },
      "source": [
        "a = tf.constant([[1, 2],\n",
        "                 [3, 4]])\n",
        "b = tf.constant([[1, 1],\n",
        "                 [1, 1]]) # Could have also said `tf.ones([2,2])`\n",
        "\n",
        "print(tf.add(a,b),\"\\n\")\n",
        "\n",
        "print(tf.multiply(a,b),\"\\n\")\n",
        "\n",
        "print(tf.matmul(a,b),\"\\n\")"
      ],
      "execution_count": 13,
      "outputs": [
        {
          "output_type": "stream",
          "text": [
            "tf.Tensor(\n",
            "[[2 3]\n",
            " [4 5]], shape=(2, 2), dtype=int32) \n",
            "\n",
            "tf.Tensor(\n",
            "[[1 2]\n",
            " [3 4]], shape=(2, 2), dtype=int32) \n",
            "\n",
            "tf.Tensor(\n",
            "[[3 3]\n",
            " [7 7]], shape=(2, 2), dtype=int32) \n",
            "\n"
          ],
          "name": "stdout"
        }
      ]
    },
    {
      "cell_type": "code",
      "metadata": {
        "colab": {
          "base_uri": "https://localhost:8080/"
        },
        "id": "bv9GMARA82G7",
        "outputId": "7fcdfcdc-91e0-4b9e-fdca-cae035ccf6ac"
      },
      "source": [
        "print(a + b, \"\\n\") # element-wise addition\n",
        "print(a * b, \"\\n\") # element-wise multiplication\n",
        "print(a @ b, \"\\n\") # matrix multiplication"
      ],
      "execution_count": 14,
      "outputs": [
        {
          "output_type": "stream",
          "text": [
            "tf.Tensor(\n",
            "[[2 3]\n",
            " [4 5]], shape=(2, 2), dtype=int32) \n",
            "\n",
            "tf.Tensor(\n",
            "[[1 2]\n",
            " [3 4]], shape=(2, 2), dtype=int32) \n",
            "\n",
            "tf.Tensor(\n",
            "[[3 3]\n",
            " [7 7]], shape=(2, 2), dtype=int32) \n",
            "\n"
          ],
          "name": "stdout"
        }
      ]
    },
    {
      "cell_type": "markdown",
      "metadata": {
        "id": "cUHA3PZz_kj8"
      },
      "source": [
        "**Tensors are used in all kinds of operations (ops).**"
      ]
    },
    {
      "cell_type": "code",
      "metadata": {
        "colab": {
          "base_uri": "https://localhost:8080/"
        },
        "id": "MV6_fMKT9AWy",
        "outputId": "abe4d286-4d55-4aec-f201-1f3c59a07cba"
      },
      "source": [
        "c = tf.constant([[4.0, 5.0], [10.0, 1.0]])\n",
        "\n",
        "#Find the largest values\n",
        "print(tf.reduce_max(c))\n",
        "\n",
        "#Find the index of largest value\n",
        "\n",
        "print(tf.math.argmax(c))\n",
        "\n",
        "#Compute the Softmax\n",
        "tf.nn.softmax(c)"
      ],
      "execution_count": 15,
      "outputs": [
        {
          "output_type": "stream",
          "text": [
            "tf.Tensor(10.0, shape=(), dtype=float32)\n",
            "tf.Tensor([1 0], shape=(2,), dtype=int64)\n"
          ],
          "name": "stdout"
        },
        {
          "output_type": "execute_result",
          "data": {
            "text/plain": [
              "<tf.Tensor: shape=(2, 2), dtype=float32, numpy=\n",
              "array([[2.6894143e-01, 7.3105860e-01],\n",
              "       [9.9987662e-01, 1.2339458e-04]], dtype=float32)>"
            ]
          },
          "metadata": {
            "tags": []
          },
          "execution_count": 15
        }
      ]
    },
    {
      "cell_type": "markdown",
      "metadata": {
        "id": "GdglKuizC0VF"
      },
      "source": [
        "\n",
        "# **About Shapes**\n",
        "Tensors have shapes. Some vocabulary:\n",
        "\n",
        "\n",
        "* Shape: The length (number of elements) of each of the dimensions of a tensor.\n",
        "* Rank: Number of tensor dimensions. A scalar has rank 0, a vector has rank 1, a matrix is rank 2.\n",
        "* Axis or Dimension: A particular dimension of a tensor.\n",
        "* Size: The total number of items in the tensor, the product shape vector\n",
        "\n",
        "\n",
        "Note: Although you may see reference to a \"tensor of two dimensions\", a rank-2 tensor does not usually describe a 2D space.\n",
        "\n",
        "Tensors and tf.TensorShape objects have convenient properties for accessing these:\n",
        "\n"
      ]
    },
    {
      "cell_type": "code",
      "metadata": {
        "colab": {
          "base_uri": "https://localhost:8080/"
        },
        "id": "3ci3WY5NBDZD",
        "outputId": "44c4368a-720d-4798-b593-f4abe7a5283c"
      },
      "source": [
        "rank_4_tensor = tf.zeros([3,2,4,5])\n",
        "rank_4_tensor"
      ],
      "execution_count": 16,
      "outputs": [
        {
          "output_type": "execute_result",
          "data": {
            "text/plain": [
              "<tf.Tensor: shape=(3, 2, 4, 5), dtype=float32, numpy=\n",
              "array([[[[0., 0., 0., 0., 0.],\n",
              "         [0., 0., 0., 0., 0.],\n",
              "         [0., 0., 0., 0., 0.],\n",
              "         [0., 0., 0., 0., 0.]],\n",
              "\n",
              "        [[0., 0., 0., 0., 0.],\n",
              "         [0., 0., 0., 0., 0.],\n",
              "         [0., 0., 0., 0., 0.],\n",
              "         [0., 0., 0., 0., 0.]]],\n",
              "\n",
              "\n",
              "       [[[0., 0., 0., 0., 0.],\n",
              "         [0., 0., 0., 0., 0.],\n",
              "         [0., 0., 0., 0., 0.],\n",
              "         [0., 0., 0., 0., 0.]],\n",
              "\n",
              "        [[0., 0., 0., 0., 0.],\n",
              "         [0., 0., 0., 0., 0.],\n",
              "         [0., 0., 0., 0., 0.],\n",
              "         [0., 0., 0., 0., 0.]]],\n",
              "\n",
              "\n",
              "       [[[0., 0., 0., 0., 0.],\n",
              "         [0., 0., 0., 0., 0.],\n",
              "         [0., 0., 0., 0., 0.],\n",
              "         [0., 0., 0., 0., 0.]],\n",
              "\n",
              "        [[0., 0., 0., 0., 0.],\n",
              "         [0., 0., 0., 0., 0.],\n",
              "         [0., 0., 0., 0., 0.],\n",
              "         [0., 0., 0., 0., 0.]]]], dtype=float32)>"
            ]
          },
          "metadata": {
            "tags": []
          },
          "execution_count": 16
        }
      ]
    },
    {
      "cell_type": "markdown",
      "metadata": {
        "id": "h0TCMCQkFHP-"
      },
      "source": [
        "<img src = \"https://camo.githubusercontent.com/55636e7c182680afc3decf7bc69470c6f84a19c3/68747470733a2f2f7261772e67697468756275736572636f6e74656e742e636f6d2f6d68757a616966616465762f6d6c5f7a65726f5f746f5f6865726f2f6d61737465722f7368617065732e706e673f746f6b656e3d414d53475351364a4a504d594233354f484c3643324632373259454347\"/>\n"
      ]
    },
    {
      "cell_type": "code",
      "metadata": {
        "colab": {
          "base_uri": "https://localhost:8080/"
        },
        "id": "TfjXSmmBE6M0",
        "outputId": "f074df97-f9ce-46da-e693-13cd0c9a6ee4"
      },
      "source": [
        "print(\"Type of every elements :\",rank_4_tensor.dtype)\n",
        "print(\"Number of Dimensions :\", rank_4_tensor.ndim)\n",
        "print(\"shape of tensor :\", rank_4_tensor.shape)\n",
        "print(\"Elements along x axis 0 of tensor :\",rank_4_tensor.shape[0])\n",
        "print(\"Elements along last of tensor :\",rank_4_tensor.shape[1])\n",
        "print(\"Total No of Elements (3*2*4*5) :\",tf.size(rank_4_tensor).numpy())"
      ],
      "execution_count": 18,
      "outputs": [
        {
          "output_type": "stream",
          "text": [
            "Type of every elements : <dtype: 'float32'>\n",
            "Number of Dimensions : 4\n",
            "shape of tensor : (3, 2, 4, 5)\n",
            "Elements along x axis 0 of tensor : 3\n",
            "Elements along last of tensor : 2\n",
            "Total No of Elements (3*2*4*5) : 120\n"
          ],
          "name": "stdout"
        }
      ]
    },
    {
      "cell_type": "markdown",
      "metadata": {
        "id": "DLoMooPnG1iS"
      },
      "source": [
        "While axes are often referred to by their indices, you should always keep track of the meaning of each. Often axes are ordered from global to local: The batch axis first, followed by spatial dimensions, and features for each location last. This way feature vectors are contiguous regions of memory.\n",
        "\n",
        "<img src = \"https://camo.githubusercontent.com/eac2b4c2eb4f0b900964169c2a3be284c3f47ac9/68747470733a2f2f7261772e67697468756275736572636f6e74656e742e636f6d2f6d68757a616966616465762f6d6c5f7a65726f5f746f5f6865726f2f6d61737465722f72616e6b342e706e673f746f6b656e3d414d534753513650595446554a55514f3656494f324f4b373259455232\"/>\n",
        "\n",
        "\n",
        "# **Single-axis indexing**\n",
        "TensorFlow follow standard python indexing rules, similar to indexing a list or a string in python, and the bacic rules for numpy indexing.\n",
        "\n",
        "indexes start at 0 negative indices count backwards from the end colons, :, are used for slices start:stop:step\n"
      ]
    },
    {
      "cell_type": "code",
      "metadata": {
        "colab": {
          "base_uri": "https://localhost:8080/"
        },
        "id": "zoO9JPvwGsTh",
        "outputId": "0523bbde-6d57-46e9-ffa6-2718aff31920"
      },
      "source": [
        "rank_1_tensor = tf.constant([0, 1, 1, 2, 3, 5, 8, 13, 21, 34])\n",
        "print(rank_1_tensor.numpy())\n"
      ],
      "execution_count": 19,
      "outputs": [
        {
          "output_type": "stream",
          "text": [
            "[ 0  1  1  2  3  5  8 13 21 34]\n"
          ],
          "name": "stdout"
        }
      ]
    },
    {
      "cell_type": "markdown",
      "metadata": {
        "id": "oxHydg8RHs0N"
      },
      "source": [
        "**Indexing with a scalar removes the dimension:**"
      ]
    },
    {
      "cell_type": "code",
      "metadata": {
        "colab": {
          "base_uri": "https://localhost:8080/"
        },
        "id": "nryn3_6xHimq",
        "outputId": "01b03ebb-a46a-4f36-f038-7f519342dfbb"
      },
      "source": [
        "\n",
        "print(\"First:\", rank_1_tensor[0].numpy())\n",
        "print(\"Second:\", rank_1_tensor[1].numpy())\n",
        "print(\"Last:\", rank_1_tensor[-1].numpy())"
      ],
      "execution_count": 20,
      "outputs": [
        {
          "output_type": "stream",
          "text": [
            "First: 0\n",
            "Second: 1\n",
            "Last: 34\n"
          ],
          "name": "stdout"
        }
      ]
    },
    {
      "cell_type": "markdown",
      "metadata": {
        "id": "JhQPyZrsHp65"
      },
      "source": [
        "**Indexing with a : slice keeps the dimension:**"
      ]
    },
    {
      "cell_type": "code",
      "metadata": {
        "colab": {
          "base_uri": "https://localhost:8080/"
        },
        "id": "8-3hOboZHk_7",
        "outputId": "fd45e6ac-f792-4f34-b0ea-c937a3a08cc9"
      },
      "source": [
        "print(\"Everything:\", rank_1_tensor[:].numpy())\n",
        "print(\"Before 4:\", rank_1_tensor[:4].numpy())\n",
        "print(\"From 4 to the end:\", rank_1_tensor[4:].numpy())\n",
        "print(\"From 2, before 7:\", rank_1_tensor[2:7].numpy())\n",
        "print(\"Every other item:\", rank_1_tensor[::2].numpy())\n",
        "print(\"Reversed:\", rank_1_tensor[::-1].numpy())"
      ],
      "execution_count": 21,
      "outputs": [
        {
          "output_type": "stream",
          "text": [
            "Everything: [ 0  1  1  2  3  5  8 13 21 34]\n",
            "Before 4: [0 1 1 2]\n",
            "From 4 to the end: [ 3  5  8 13 21 34]\n",
            "From 2, before 7: [1 2 3 5 8]\n",
            "Every other item: [ 0  1  3  8 21]\n",
            "Reversed: [34 21 13  8  5  3  2  1  1  0]\n"
          ],
          "name": "stdout"
        }
      ]
    },
    {
      "cell_type": "markdown",
      "metadata": {
        "id": "6gsTT1dKH2ja"
      },
      "source": [
        " **Multi-axis indexing**\n",
        " \n",
        "Higher rank tensors are indexed by passing multiple indices.\n",
        "\n",
        "The single-axis exact same rules as in the single-axis case apply to each axis independently."
      ]
    },
    {
      "cell_type": "code",
      "metadata": {
        "colab": {
          "base_uri": "https://localhost:8080/"
        },
        "id": "y4ZqJwC-HzIL",
        "outputId": "f2d6d290-84b5-4725-accd-206ebd91d902"
      },
      "source": [
        "print(rank_2_sensor.numpy())"
      ],
      "execution_count": 23,
      "outputs": [
        {
          "output_type": "stream",
          "text": [
            "[[1 2]\n",
            " [3 4]\n",
            " [5 6]]\n"
          ],
          "name": "stdout"
        }
      ]
    },
    {
      "cell_type": "markdown",
      "metadata": {
        "id": "Zcf_mwpGIQAG"
      },
      "source": [
        "**Passing an integer for each index the result is a scalar.**"
      ]
    },
    {
      "cell_type": "code",
      "metadata": {
        "colab": {
          "base_uri": "https://localhost:8080/"
        },
        "id": "0IX64aJ0IA0l",
        "outputId": "80f1c539-26cc-4713-f267-4ddb457fc64b"
      },
      "source": [
        "# Pull out a single value from a 2-rank tensor\n",
        "print(rank_2_sensor[1, 1].numpy())"
      ],
      "execution_count": 25,
      "outputs": [
        {
          "output_type": "stream",
          "text": [
            "4\n"
          ],
          "name": "stdout"
        }
      ]
    },
    {
      "cell_type": "markdown",
      "metadata": {
        "id": "Jb9jFWRmIY8e"
      },
      "source": [
        "**You can index using any combination integers and slices:**"
      ]
    },
    {
      "cell_type": "code",
      "metadata": {
        "colab": {
          "base_uri": "https://localhost:8080/"
        },
        "id": "NCztthE3IU_6",
        "outputId": "40ffd301-05b9-4964-db63-826e262c1d7b"
      },
      "source": [
        "\n",
        "# Get row and column tensors\n",
        "print(\"Second row:\", rank_2_sensor[1, :].numpy())\n",
        "print(\"Second column:\", rank_2_sensor[:, 1].numpy())\n",
        "print(\"Last row:\", rank_2_sensor[-1, :].numpy())\n",
        "print(\"First item in last column:\", rank_2_sensor[0, -1].numpy())\n",
        "print(\"Skip the first row:\")\n",
        "print(rank_2_sensor[1:, :].numpy(), \"\\n\")"
      ],
      "execution_count": 29,
      "outputs": [
        {
          "output_type": "stream",
          "text": [
            "Second row: [3 4]\n",
            "Second column: [2 4 6]\n",
            "Last row: [5 6]\n",
            "First item in last column: 2\n",
            "Skip the first row:\n",
            "[[3 4]\n",
            " [5 6]] \n",
            "\n"
          ],
          "name": "stdout"
        }
      ]
    },
    {
      "cell_type": "markdown",
      "metadata": {
        "id": "2pfA4EDBIyG1"
      },
      "source": [
        "Here is an example with a 3-axis tensor:"
      ]
    },
    {
      "cell_type": "code",
      "metadata": {
        "colab": {
          "base_uri": "https://localhost:8080/"
        },
        "id": "865SyygdInlo",
        "outputId": "bd0b2535-cb37-4dc7-b0cb-3c9a5978b2cf"
      },
      "source": [
        "print(rank_3_tensor[:, :, 4])"
      ],
      "execution_count": 28,
      "outputs": [
        {
          "output_type": "stream",
          "text": [
            "tf.Tensor(\n",
            "[[ 4  9]\n",
            " [14 19]\n",
            " [24 29]], shape=(3, 2), dtype=int32)\n"
          ],
          "name": "stdout"
        }
      ]
    },
    {
      "cell_type": "markdown",
      "metadata": {
        "id": "y2A4cCVAJBJZ"
      },
      "source": [
        "<img src =\"https://camo.githubusercontent.com/7eb314ab83ec0e9716d93e2233181e0a3ab0346d/68747470733a2f2f7261772e67697468756275736572636f6e74656e742e636f6d2f6d68757a616966616465762f6d6c5f7a65726f5f746f5f6865726f2f6d61737465722f72616e6b332e706e673f746f6b656e3d414d53475351354f59574c4a335541324d515541514343373259464c4f\"/>\n",
        "\n",
        "\n",
        "# **Manipulating Shapes**\n",
        "Reshaping a tensor is of great utility.\n",
        "\n",
        "The tf.reshape operation is fast and cheap as the underlying data does not need to be duplicated."
      ]
    },
    {
      "cell_type": "code",
      "metadata": {
        "colab": {
          "base_uri": "https://localhost:8080/"
        },
        "id": "mB84GDA-I3uv",
        "outputId": "520ebc71-115f-41c7-ac2e-2b515926c49c"
      },
      "source": [
        "# Shape returns a `TensorShape` object that shows the size on each dimension\n",
        "var_x = tf.Variable(tf.constant([[1], [2], [3]]))\n",
        "print(var_x.shape)"
      ],
      "execution_count": 30,
      "outputs": [
        {
          "output_type": "stream",
          "text": [
            "(3, 1)\n"
          ],
          "name": "stdout"
        }
      ]
    },
    {
      "cell_type": "code",
      "metadata": {
        "colab": {
          "base_uri": "https://localhost:8080/"
        },
        "id": "gv3srfZjJZE4",
        "outputId": "b2cbc10e-61ee-4f46-9d68-09880fc0a490"
      },
      "source": [
        "# You can convert this object into a Python list, too\n",
        "print(var_x.shape.as_list())"
      ],
      "execution_count": 31,
      "outputs": [
        {
          "output_type": "stream",
          "text": [
            "[3, 1]\n"
          ],
          "name": "stdout"
        }
      ]
    },
    {
      "cell_type": "code",
      "metadata": {
        "id": "fkK_7WbaL0br"
      },
      "source": [
        "# We can reshape a tensor to a new shape.\n",
        "# Note that we're passing in a list\n",
        "reshaped = tf.reshape(\n",
        "    var_x, [1,3]\n",
        ")"
      ],
      "execution_count": 32,
      "outputs": []
    },
    {
      "cell_type": "code",
      "metadata": {
        "colab": {
          "base_uri": "https://localhost:8080/"
        },
        "id": "cMAqX44nL-qc",
        "outputId": "30edb00b-1fcd-432d-ac8f-cdc2c2bb44ae"
      },
      "source": [
        "print(var_x.shape)\n",
        "print(reshaped.shape)"
      ],
      "execution_count": 33,
      "outputs": [
        {
          "output_type": "stream",
          "text": [
            "(3, 1)\n",
            "(1, 3)\n"
          ],
          "name": "stdout"
        }
      ]
    },
    {
      "cell_type": "code",
      "metadata": {
        "colab": {
          "base_uri": "https://localhost:8080/"
        },
        "id": "UapXuO4VMBQ4",
        "outputId": "f6841424-0c01-4113-ef22-835ed729c4b9"
      },
      "source": [
        "print(rank_3_tensor)"
      ],
      "execution_count": 34,
      "outputs": [
        {
          "output_type": "stream",
          "text": [
            "tf.Tensor(\n",
            "[[[ 0  1  2  3  4]\n",
            "  [ 5  6  7  8  9]]\n",
            "\n",
            " [[10 11 12 13 14]\n",
            "  [15 16 17 18 19]]\n",
            "\n",
            " [[20 21 22 23 24]\n",
            "  [25 26 27 28 29]]], shape=(3, 2, 5), dtype=int32)\n"
          ],
          "name": "stdout"
        }
      ]
    },
    {
      "cell_type": "markdown",
      "metadata": {
        "id": "1r8kSQxUMKy4"
      },
      "source": [
        "If you flatten a tensor you can see what order it is laid out in memory."
      ]
    },
    {
      "cell_type": "code",
      "metadata": {
        "colab": {
          "base_uri": "https://localhost:8080/"
        },
        "id": "vORKl48QMEzj",
        "outputId": "6b05c887-eeaf-4f92-a862-1e6c714649e4"
      },
      "source": [
        "print(tf.reshape(rank_3_tensor, [-1]))"
      ],
      "execution_count": 35,
      "outputs": [
        {
          "output_type": "stream",
          "text": [
            "tf.Tensor(\n",
            "[ 0  1  2  3  4  5  6  7  8  9 10 11 12 13 14 15 16 17 18 19 20 21 22 23\n",
            " 24 25 26 27 28 29], shape=(30,), dtype=int32)\n"
          ],
          "name": "stdout"
        }
      ]
    },
    {
      "cell_type": "markdown",
      "metadata": {
        "id": "oEN_nW-pMbIk"
      },
      "source": [
        "Typically the only reasonable uses of tf.reshape are to combine or split adjacent axes (or add/remove 1s).\n",
        "\n",
        "For this 3x2x5 tensor, reshaping to (3x2)x5 or 3x(2x5) are both reasonable things to do, as the slices do not mix:"
      ]
    },
    {
      "cell_type": "code",
      "metadata": {
        "colab": {
          "base_uri": "https://localhost:8080/"
        },
        "id": "SO3p4y1yMJN0",
        "outputId": "af1a1bb5-e79c-4f40-d943-563bba0097cb"
      },
      "source": [
        "print(tf.reshape(rank_3_tensor, [3*2, 5]), \"\\n\")\n",
        "print(tf.reshape(rank_3_tensor, [3, -1]))\n",
        "print(tf.reshape(rank_3_tensor, [2,-1]))"
      ],
      "execution_count": 41,
      "outputs": [
        {
          "output_type": "stream",
          "text": [
            "tf.Tensor(\n",
            "[[ 0  1  2  3  4]\n",
            " [ 5  6  7  8  9]\n",
            " [10 11 12 13 14]\n",
            " [15 16 17 18 19]\n",
            " [20 21 22 23 24]\n",
            " [25 26 27 28 29]], shape=(6, 5), dtype=int32) \n",
            "\n",
            "tf.Tensor(\n",
            "[[ 0  1  2  3  4  5  6  7  8  9]\n",
            " [10 11 12 13 14 15 16 17 18 19]\n",
            " [20 21 22 23 24 25 26 27 28 29]], shape=(3, 10), dtype=int32)\n",
            "tf.Tensor(\n",
            "[[ 0  1  2  3  4  5  6  7  8  9 10 11 12 13 14]\n",
            " [15 16 17 18 19 20 21 22 23 24 25 26 27 28 29]], shape=(2, 15), dtype=int32)\n"
          ],
          "name": "stdout"
        }
      ]
    },
    {
      "cell_type": "markdown",
      "metadata": {
        "id": "0rYBa3BlM93P"
      },
      "source": [
        "<img src = \"https://camo.githubusercontent.com/cfca6ee2d723cdb445ab1691af20bf801b6311a9/68747470733a2f2f7261772e67697468756275736572636f6e74656e742e636f6d2f6d68757a616966616465762f6d6c5f7a65726f5f746f5f6865726f2f6d61737465722f636f6e63657074732e706e673f746f6b656e3d414d53475351375832355a5647515942584e52344a3732373259475745\"/>\n",
        "\n",
        "Reshaping will \"work\" for any new shape with the same total number of elements, but it will not do anything useful if you do not respect the order of the axes.\n",
        "\n",
        "Swapping axes in tf.reshape does not work, you need tf.transpose for that.\n",
        "\n",
        "\n",
        "\n",
        "# **Broadcasting**\n",
        "Broadcasting is a concept borrowed from the equivalent feature in NumPy. In short, under certain conditions, smaller tensors are \"stretched\" automatically to fit larger tensors when running combined operations on them.\n",
        "\n",
        "The simplest and most common case is when you attempt to multiply or add a tensor to a scalar. In that case, the scalar is broadcast to be the same shape as the other argument."
      ]
    },
    {
      "cell_type": "code",
      "metadata": {
        "colab": {
          "base_uri": "https://localhost:8080/"
        },
        "id": "EPEoYN2mM2km",
        "outputId": "b9b3d584-64dc-4029-b13b-45033a54495e"
      },
      "source": [
        "x = tf.constant([1, 2, 3])\n",
        "\n",
        "y = tf.constant(2)\n",
        "z = tf.constant([2, 2, 2])\n",
        "# All of these are the same computation\n",
        "print(tf.multiply(x, 2))\n",
        "print(x * y)\n",
        "print(x * z)"
      ],
      "execution_count": 42,
      "outputs": [
        {
          "output_type": "stream",
          "text": [
            "tf.Tensor([2 4 6], shape=(3,), dtype=int32)\n",
            "tf.Tensor([2 4 6], shape=(3,), dtype=int32)\n",
            "tf.Tensor([2 4 6], shape=(3,), dtype=int32)\n"
          ],
          "name": "stdout"
        }
      ]
    },
    {
      "cell_type": "markdown",
      "metadata": {
        "id": "YUg7cKLQNzT7"
      },
      "source": [
        "Likewise, 1-sized dimensions can be stretched out to match the other arguments. Both arguments can be stretched in the same computation.\n",
        "\n",
        "In this case a 3x1 matrix is element-wise multiplied by a 1x4 matrix to produce a 3x4 matrix. Note how the leading 1 is optional: The shape of y is [4]."
      ]
    },
    {
      "cell_type": "code",
      "metadata": {
        "colab": {
          "base_uri": "https://localhost:8080/"
        },
        "id": "8XKbqEhjNxAc",
        "outputId": "a1a25c84-d6e5-4f78-b54b-7266b300651f"
      },
      "source": [
        "\n",
        "# These are the same computations\n",
        "x = tf.reshape(x,[3,1])\n",
        "y = tf.range(1, 5)\n",
        "print(x, \"\\n\")\n",
        "print(y, \"\\n\")\n",
        "print(tf.multiply(x, y))"
      ],
      "execution_count": 43,
      "outputs": [
        {
          "output_type": "stream",
          "text": [
            "tf.Tensor(\n",
            "[[1]\n",
            " [2]\n",
            " [3]], shape=(3, 1), dtype=int32) \n",
            "\n",
            "tf.Tensor([1 2 3 4], shape=(4,), dtype=int32) \n",
            "\n",
            "tf.Tensor(\n",
            "[[ 1  2  3  4]\n",
            " [ 2  4  6  8]\n",
            " [ 3  6  9 12]], shape=(3, 4), dtype=int32)\n"
          ],
          "name": "stdout"
        }
      ]
    },
    {
      "cell_type": "markdown",
      "metadata": {
        "id": "tCPkCSPwN39Z"
      },
      "source": [
        "<img src = \"https://camo.githubusercontent.com/3a0725a7d13374bb374fd3cf73ff85bd6945cfe4/68747470733a2f2f7261772e67697468756275736572636f6e74656e742e636f6d2f6d68757a616966616465762f6d6c5f7a65726f5f746f5f6865726f2f6d61737465722f62726f6164636173742e706e673f746f6b656e3d414d534753513759534d4b46545a34593446545534494b373259483243\">\n",
        "Here is the same operation without broadcasting:"
      ]
    },
    {
      "cell_type": "code",
      "metadata": {
        "colab": {
          "base_uri": "https://localhost:8080/"
        },
        "id": "lIrQja6EN2rw",
        "outputId": "ef5debe5-ce79-4528-fe23-2d7788b80e19"
      },
      "source": [
        "x_stretch = tf.constant([[1, 1, 1, 1],\n",
        "                         [2, 2, 2, 2],\n",
        "                         [3, 3, 3, 3]])\n",
        "\n",
        "y_stretch = tf.constant([[1, 2, 3, 4],\n",
        "                         [1, 2, 3, 4],\n",
        "                         [1, 2, 3, 4]])\n",
        "\n",
        "print(x_stretch * y_stretch)  # Again, operator overloading"
      ],
      "execution_count": 44,
      "outputs": [
        {
          "output_type": "stream",
          "text": [
            "tf.Tensor(\n",
            "[[ 1  2  3  4]\n",
            " [ 2  4  6  8]\n",
            " [ 3  6  9 12]], shape=(3, 4), dtype=int32)\n"
          ],
          "name": "stdout"
        }
      ]
    },
    {
      "cell_type": "markdown",
      "metadata": {
        "id": "mhZBKupTOB9U"
      },
      "source": [
        "Most of the time, broadcasting is both time and space efficient, as the broadcast operation never materializes the expanded tensors in memory.\n",
        "\n",
        "You see what broadcasting looks like using tf.broadcast_to."
      ]
    },
    {
      "cell_type": "code",
      "metadata": {
        "colab": {
          "base_uri": "https://localhost:8080/"
        },
        "id": "IH6NSxxqOAGL",
        "outputId": "fb7d31fb-73d5-4796-905d-76639ad0a10c"
      },
      "source": [
        "print(tf.broadcast_to(tf.constant([1, 2, 3]), [3, 3]))"
      ],
      "execution_count": 45,
      "outputs": [
        {
          "output_type": "stream",
          "text": [
            "tf.Tensor(\n",
            "[[1 2 3]\n",
            " [1 2 3]\n",
            " [1 2 3]], shape=(3, 3), dtype=int32)\n"
          ],
          "name": "stdout"
        }
      ]
    },
    {
      "cell_type": "markdown",
      "metadata": {
        "id": "X5KvhAG7OH8n"
      },
      "source": [
        "Unlike a mathematical op, for example, broadcast_to does nothing special to save memory. Here, you are materializing the tensor."
      ]
    },
    {
      "cell_type": "code",
      "metadata": {
        "id": "c3Fk9NYOOEVQ"
      },
      "source": [
        ""
      ],
      "execution_count": null,
      "outputs": []
    }
  ]
}