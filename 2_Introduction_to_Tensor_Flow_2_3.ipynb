{
  "nbformat": 4,
  "nbformat_minor": 0,
  "metadata": {
    "colab": {
      "name": "2_Introduction_to_Tensor_Flow_2.3.ipynb",
      "provenance": [],
      "authorship_tag": "ABX9TyP6HjpFhQVhrHlmC3fKx6Tp",
      "include_colab_link": true
    },
    "kernelspec": {
      "name": "python3",
      "display_name": "Python 3"
    },
    "accelerator": "TPU"
  },
  "cells": [
    {
      "cell_type": "markdown",
      "metadata": {
        "id": "view-in-github",
        "colab_type": "text"
      },
      "source": [
        "<a href=\"https://colab.research.google.com/github/amazingashis/Machine_Learning_Advanced/blob/main/2_Introduction_to_Tensor_Flow_2_3.ipynb\" target=\"_parent\"><img src=\"https://colab.research.google.com/assets/colab-badge.svg\" alt=\"Open In Colab\"/></a>"
      ]
    },
    {
      "cell_type": "code",
      "metadata": {
        "id": "RrcblBkwtup9"
      },
      "source": [
        ""
      ],
      "execution_count": null,
      "outputs": []
    },
    {
      "cell_type": "markdown",
      "metadata": {
        "id": "aB5tykfi0m8h"
      },
      "source": [
        "# **Introduction to Tensorflow**\n",
        "\n",
        "<img src = \"https://camo.githubusercontent.com/127d2d82f76ed9d98414011fd743b58e7c094ce4/68747470733a2f2f6d69726f2e6d656469756d2e636f6d2f6d61782f313032352f312a7657734978594733456b5237435f6c737a69715046512e706e67\"/>\n",
        "\n",
        "# **What is Tensor?**\n",
        "A tensor is an N-dimensional array of data\n",
        "\n",
        "<img src = \"https://camo.githubusercontent.com/7b892ce75089d13d7a55a9e3ba037171cd9a1e99/68747470733a2f2f7261772e67697468756275736572636f6e74656e742e636f6d2f6d68757a616966616465762f6d6c5f7a65726f5f746f5f6865726f2f6d61737465722f74656e736f722e706e673f746f6b656e3d414d534753515a445a5a4f4732484e4c4b4d5837534753373258345134\"/>\n",
        "\n",
        "\n",
        "# **Components of TensorFlow: Tensors and Variables**\n",
        "\n"
      ]
    },
    {
      "cell_type": "code",
      "metadata": {
        "colab": {
          "base_uri": "https://localhost:8080/"
        },
        "id": "3GWPc8Xw1EAr",
        "outputId": "08199089-b984-418a-a66b-be116088a9ba"
      },
      "source": [
        "import tensorflow as tf\n",
        "\n",
        "print(tf.__version__)"
      ],
      "execution_count": 1,
      "outputs": [
        {
          "output_type": "stream",
          "text": [
            "2.3.0\n"
          ],
          "name": "stdout"
        }
      ]
    },
    {
      "cell_type": "code",
      "metadata": {
        "colab": {
          "base_uri": "https://localhost:8080/"
        },
        "id": "CLvTovzr3UNo",
        "outputId": "054981de-df05-4550-8262-2e9948dbaf0d"
      },
      "source": [
        "import numpy as np\n",
        "print(np.__version__)"
      ],
      "execution_count": 2,
      "outputs": [
        {
          "output_type": "stream",
          "text": [
            "1.18.5\n"
          ],
          "name": "stdout"
        }
      ]
    },
    {
      "cell_type": "code",
      "metadata": {
        "colab": {
          "base_uri": "https://localhost:8080/"
        },
        "id": "Yu-bpemV3b0T",
        "outputId": "6024654c-e045-4a37-8cc8-6f47fe713f5e"
      },
      "source": [
        "x = tf.constant([[3,5,7],[4,6,8]])\n",
        "x"
      ],
      "execution_count": 4,
      "outputs": [
        {
          "output_type": "execute_result",
          "data": {
            "text/plain": [
              "<tf.Tensor: shape=(2, 3), dtype=int32, numpy=\n",
              "array([[3, 5, 7],\n",
              "       [4, 6, 8]], dtype=int32)>"
            ]
          },
          "metadata": {
            "tags": []
          },
          "execution_count": 4
        }
      ]
    },
    {
      "cell_type": "code",
      "metadata": {
        "id": "d5mqm4h03oNK"
      },
      "source": [
        ""
      ],
      "execution_count": null,
      "outputs": []
    }
  ]
}